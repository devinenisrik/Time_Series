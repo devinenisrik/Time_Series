{
 "cells": [
  {
   "cell_type": "markdown",
   "id": "428ac7da-5348-4b61-9fec-3703fa09b364",
   "metadata": {},
   "source": [
    "# Stock Price Prediction And Forecasting Using Stacked LSTM\n"
   ]
  },
  {
   "cell_type": "code",
   "execution_count": 1,
   "id": "d3673c35-da35-4230-b076-1d1c856db684",
   "metadata": {
    "tags": []
   },
   "outputs": [],
   "source": [
    "### Data Collection\n",
    "import tensorflow as tf\n",
    "from pandas_datareader import data as pdr\n",
    "import pandas as pd\n",
    "import numpy as np\n",
    "from datetime import datetime\n",
    "import matplotlib.pyplot as plt\n",
    "%matplotlib inline\n",
    "import prophet\n",
    "from prophet import Prophet\n",
    "from prophet.plot import plot_plotly,plot_components_plotly\n",
    "import yfinance as yf\n",
    "yf.pdr_override()\n",
    "import warnings\n",
    "warnings.filterwarnings(\"ignore\")"
   ]
  },
  {
   "cell_type": "code",
   "execution_count": 2,
   "id": "1271e0fd-f6f4-4c1b-9279-168fc3f82726",
   "metadata": {
    "tags": []
   },
   "outputs": [
    {
     "name": "stdout",
     "output_type": "stream",
     "text": [
      "[*********************100%%**********************]  1 of 1 completed\n"
     ]
    }
   ],
   "source": [
    "df=pdr.get_data_yahoo('ICICIBANK.NS')"
   ]
  },
  {
   "cell_type": "code",
   "execution_count": 3,
   "id": "ae35a544-c8de-448e-9b16-e1465f836bfa",
   "metadata": {
    "tags": []
   },
   "outputs": [
    {
     "data": {
      "text/html": [
       "<div>\n",
       "<style scoped>\n",
       "    .dataframe tbody tr th:only-of-type {\n",
       "        vertical-align: middle;\n",
       "    }\n",
       "\n",
       "    .dataframe tbody tr th {\n",
       "        vertical-align: top;\n",
       "    }\n",
       "\n",
       "    .dataframe thead th {\n",
       "        text-align: right;\n",
       "    }\n",
       "</style>\n",
       "<table border=\"1\" class=\"dataframe\">\n",
       "  <thead>\n",
       "    <tr style=\"text-align: right;\">\n",
       "      <th></th>\n",
       "      <th>Open</th>\n",
       "      <th>High</th>\n",
       "      <th>Low</th>\n",
       "      <th>Close</th>\n",
       "      <th>Adj Close</th>\n",
       "      <th>Volume</th>\n",
       "    </tr>\n",
       "    <tr>\n",
       "      <th>Date</th>\n",
       "      <th></th>\n",
       "      <th></th>\n",
       "      <th></th>\n",
       "      <th></th>\n",
       "      <th></th>\n",
       "      <th></th>\n",
       "    </tr>\n",
       "  </thead>\n",
       "  <tbody>\n",
       "    <tr>\n",
       "      <th>2002-07-01</th>\n",
       "      <td>25.418180</td>\n",
       "      <td>25.818180</td>\n",
       "      <td>24.818180</td>\n",
       "      <td>25.127272</td>\n",
       "      <td>17.887016</td>\n",
       "      <td>2047540</td>\n",
       "    </tr>\n",
       "    <tr>\n",
       "      <th>2002-07-02</th>\n",
       "      <td>25.454544</td>\n",
       "      <td>27.636362</td>\n",
       "      <td>25.236362</td>\n",
       "      <td>26.745455</td>\n",
       "      <td>19.038931</td>\n",
       "      <td>5546354</td>\n",
       "    </tr>\n",
       "    <tr>\n",
       "      <th>2002-07-03</th>\n",
       "      <td>26.727272</td>\n",
       "      <td>28.181818</td>\n",
       "      <td>26.645454</td>\n",
       "      <td>28.090908</td>\n",
       "      <td>19.996706</td>\n",
       "      <td>5745267</td>\n",
       "    </tr>\n",
       "    <tr>\n",
       "      <th>2002-07-04</th>\n",
       "      <td>28.181818</td>\n",
       "      <td>28.799999</td>\n",
       "      <td>27.036364</td>\n",
       "      <td>27.390909</td>\n",
       "      <td>19.498405</td>\n",
       "      <td>3896601</td>\n",
       "    </tr>\n",
       "    <tr>\n",
       "      <th>2002-07-05</th>\n",
       "      <td>27.090908</td>\n",
       "      <td>27.863636</td>\n",
       "      <td>26.945454</td>\n",
       "      <td>27.672728</td>\n",
       "      <td>19.699017</td>\n",
       "      <td>3261038</td>\n",
       "    </tr>\n",
       "  </tbody>\n",
       "</table>\n",
       "</div>"
      ],
      "text/plain": [
       "                 Open       High        Low      Close  Adj Close   Volume\n",
       "Date                                                                      \n",
       "2002-07-01  25.418180  25.818180  24.818180  25.127272  17.887016  2047540\n",
       "2002-07-02  25.454544  27.636362  25.236362  26.745455  19.038931  5546354\n",
       "2002-07-03  26.727272  28.181818  26.645454  28.090908  19.996706  5745267\n",
       "2002-07-04  28.181818  28.799999  27.036364  27.390909  19.498405  3896601\n",
       "2002-07-05  27.090908  27.863636  26.945454  27.672728  19.699017  3261038"
      ]
     },
     "execution_count": 3,
     "metadata": {},
     "output_type": "execute_result"
    }
   ],
   "source": [
    "df.head()"
   ]
  },
  {
   "cell_type": "code",
   "execution_count": 4,
   "id": "b606ac73-b0e9-42ac-94f4-ab2f9c5c5d29",
   "metadata": {
    "tags": []
   },
   "outputs": [],
   "source": [
    "df1=df.reset_index()"
   ]
  },
  {
   "cell_type": "code",
   "execution_count": 5,
   "id": "919dfe9b-b2a8-4163-afbe-131833401070",
   "metadata": {
    "tags": []
   },
   "outputs": [],
   "source": [
    "df1=df1[['Close']]"
   ]
  },
  {
   "cell_type": "code",
   "execution_count": 6,
   "id": "a44bdc36-6c47-4438-b926-e57fdbfc17d5",
   "metadata": {
    "tags": []
   },
   "outputs": [
    {
     "data": {
      "text/html": [
       "<div>\n",
       "<style scoped>\n",
       "    .dataframe tbody tr th:only-of-type {\n",
       "        vertical-align: middle;\n",
       "    }\n",
       "\n",
       "    .dataframe tbody tr th {\n",
       "        vertical-align: top;\n",
       "    }\n",
       "\n",
       "    .dataframe thead th {\n",
       "        text-align: right;\n",
       "    }\n",
       "</style>\n",
       "<table border=\"1\" class=\"dataframe\">\n",
       "  <thead>\n",
       "    <tr style=\"text-align: right;\">\n",
       "      <th></th>\n",
       "      <th>Close</th>\n",
       "    </tr>\n",
       "  </thead>\n",
       "  <tbody>\n",
       "    <tr>\n",
       "      <th>0</th>\n",
       "      <td>25.127272</td>\n",
       "    </tr>\n",
       "    <tr>\n",
       "      <th>1</th>\n",
       "      <td>26.745455</td>\n",
       "    </tr>\n",
       "    <tr>\n",
       "      <th>2</th>\n",
       "      <td>28.090908</td>\n",
       "    </tr>\n",
       "    <tr>\n",
       "      <th>3</th>\n",
       "      <td>27.390909</td>\n",
       "    </tr>\n",
       "    <tr>\n",
       "      <th>4</th>\n",
       "      <td>27.672728</td>\n",
       "    </tr>\n",
       "    <tr>\n",
       "      <th>...</th>\n",
       "      <td>...</td>\n",
       "    </tr>\n",
       "    <tr>\n",
       "      <th>5284</th>\n",
       "      <td>938.599976</td>\n",
       "    </tr>\n",
       "    <tr>\n",
       "      <th>5285</th>\n",
       "      <td>951.200012</td>\n",
       "    </tr>\n",
       "    <tr>\n",
       "      <th>5286</th>\n",
       "      <td>953.099976</td>\n",
       "    </tr>\n",
       "    <tr>\n",
       "      <th>5287</th>\n",
       "      <td>954.250000</td>\n",
       "    </tr>\n",
       "    <tr>\n",
       "      <th>5288</th>\n",
       "      <td>951.299988</td>\n",
       "    </tr>\n",
       "  </tbody>\n",
       "</table>\n",
       "<p>5289 rows × 1 columns</p>\n",
       "</div>"
      ],
      "text/plain": [
       "           Close\n",
       "0      25.127272\n",
       "1      26.745455\n",
       "2      28.090908\n",
       "3      27.390909\n",
       "4      27.672728\n",
       "...          ...\n",
       "5284  938.599976\n",
       "5285  951.200012\n",
       "5286  953.099976\n",
       "5287  954.250000\n",
       "5288  951.299988\n",
       "\n",
       "[5289 rows x 1 columns]"
      ]
     },
     "execution_count": 6,
     "metadata": {},
     "output_type": "execute_result"
    }
   ],
   "source": [
    "df1"
   ]
  },
  {
   "cell_type": "code",
   "execution_count": 7,
   "id": "341c3584-ff89-405d-a3ef-6164f8ffa7b6",
   "metadata": {
    "tags": []
   },
   "outputs": [
    {
     "data": {
      "text/plain": [
       "<Axes: >"
      ]
     },
     "execution_count": 7,
     "metadata": {},
     "output_type": "execute_result"
    },
    {
     "data": {
      "image/png": "[encoded data removed]",
      "text/plain": [
       "<Figure size 1200x400 with 1 Axes>"
      ]
     },
     "metadata": {},
     "output_type": "display_data"
    }
   ],
   "source": [
    "df1.plot(figsize=(12,4))"
   ]
  },
  {
   "cell_type": "markdown",
   "id": "0efd5a3e-4bd4-4174-8f5f-d813833e42d5",
   "metadata": {
    "tags": []
   },
   "source": [
    "### LSTM are sensitive to the scale of the data. so we apply MinMax scaler "
   ]
  },
  {
   "cell_type": "code",
   "execution_count": 8,
   "id": "df610e02-49b5-479f-a310-f8d7f53a3366",
   "metadata": {
    "tags": []
   },
   "outputs": [
    {
     "data": {
      "text/html": [
       "<div>\n",
       "<style scoped>\n",
       "    .dataframe tbody tr th:only-of-type {\n",
       "        vertical-align: middle;\n",
       "    }\n",
       "\n",
       "    .dataframe tbody tr th {\n",
       "        vertical-align: top;\n",
       "    }\n",
       "\n",
       "    .dataframe thead th {\n",
       "        text-align: right;\n",
       "    }\n",
       "</style>\n",
       "<table border=\"1\" class=\"dataframe\">\n",
       "  <thead>\n",
       "    <tr style=\"text-align: right;\">\n",
       "      <th></th>\n",
       "      <th>Close</th>\n",
       "    </tr>\n",
       "  </thead>\n",
       "  <tbody>\n",
       "    <tr>\n",
       "      <th>0</th>\n",
       "      <td>25.127272</td>\n",
       "    </tr>\n",
       "    <tr>\n",
       "      <th>1</th>\n",
       "      <td>26.745455</td>\n",
       "    </tr>\n",
       "    <tr>\n",
       "      <th>2</th>\n",
       "      <td>28.090908</td>\n",
       "    </tr>\n",
       "    <tr>\n",
       "      <th>3</th>\n",
       "      <td>27.390909</td>\n",
       "    </tr>\n",
       "    <tr>\n",
       "      <th>4</th>\n",
       "      <td>27.672728</td>\n",
       "    </tr>\n",
       "    <tr>\n",
       "      <th>...</th>\n",
       "      <td>...</td>\n",
       "    </tr>\n",
       "    <tr>\n",
       "      <th>5284</th>\n",
       "      <td>938.599976</td>\n",
       "    </tr>\n",
       "    <tr>\n",
       "      <th>5285</th>\n",
       "      <td>951.200012</td>\n",
       "    </tr>\n",
       "    <tr>\n",
       "      <th>5286</th>\n",
       "      <td>953.099976</td>\n",
       "    </tr>\n",
       "    <tr>\n",
       "      <th>5287</th>\n",
       "      <td>954.250000</td>\n",
       "    </tr>\n",
       "    <tr>\n",
       "      <th>5288</th>\n",
       "      <td>951.299988</td>\n",
       "    </tr>\n",
       "  </tbody>\n",
       "</table>\n",
       "<p>5289 rows × 1 columns</p>\n",
       "</div>"
      ],
      "text/plain": [
       "           Close\n",
       "0      25.127272\n",
       "1      26.745455\n",
       "2      28.090908\n",
       "3      27.390909\n",
       "4      27.672728\n",
       "...          ...\n",
       "5284  938.599976\n",
       "5285  951.200012\n",
       "5286  953.099976\n",
       "5287  954.250000\n",
       "5288  951.299988\n",
       "\n",
       "[5289 rows x 1 columns]"
      ]
     },
     "execution_count": 8,
     "metadata": {},
     "output_type": "execute_result"
    }
   ],
   "source": [
    "df1"
   ]
  },
  {
   "cell_type": "code",
   "execution_count": 9,
   "id": "50edfd1a-f0c6-4dac-b786-4840dd578d70",
   "metadata": {
    "tags": []
   },
   "outputs": [],
   "source": [
    "'''\n",
    "from sklearn.preprocessing import MinMaxScaler\n",
    "import numpy as np\n",
    "\n",
    "scaler = MinMaxScaler()\n",
    "df1 = scaler.fit_transform(df1)\n",
    "\n",
    "'''\n",
    "\n",
    "from sklearn.preprocessing import MinMaxScaler\n",
    "scaler=MinMaxScaler(feature_range=(0,1))\n",
    "df1=scaler.fit_transform(np.array(df1).reshape(-1,1))\n"
   ]
  },
  {
   "cell_type": "code",
   "execution_count": 10,
   "id": "3cc0cc31-57b0-46e8-b45d-936a8521360d",
   "metadata": {
    "tags": []
   },
   "outputs": [
    {
     "data": {
      "text/plain": [
       "array([[0.00513931],\n",
       "       [0.00679355],\n",
       "       [0.00816899],\n",
       "       ...,\n",
       "       [0.95379267],\n",
       "       [0.95496832],\n",
       "       [0.95195257]])"
      ]
     },
     "execution_count": 10,
     "metadata": {},
     "output_type": "execute_result"
    }
   ],
   "source": [
    "df1"
   ]
  },
  {
   "cell_type": "code",
   "execution_count": 11,
   "id": "ba3207ec-1337-4b3f-86dc-294125ee0b4d",
   "metadata": {
    "tags": []
   },
   "outputs": [],
   "source": [
    "##splitting dataset into train and test split\n",
    "training_size=int(len(df1)*0.8)\n",
    "test_size=len(df1)-training_size\n",
    "train_data,test_data=df1[0:training_size,:],df1[training_size:len(df1),:1]"
   ]
  },
  {
   "cell_type": "code",
   "execution_count": 12,
   "id": "6a1ec790-d6e9-441f-9146-539e89b5ff9e",
   "metadata": {
    "tags": []
   },
   "outputs": [
    {
     "data": {
      "text/plain": [
       "(4231, 1058)"
      ]
     },
     "execution_count": 12,
     "metadata": {},
     "output_type": "execute_result"
    }
   ],
   "source": [
    "training_size,test_size"
   ]
  },
  {
   "cell_type": "code",
   "execution_count": 13,
   "id": "9a25dc88-a016-45ae-b3dd-f63d31be327d",
   "metadata": {
    "tags": []
   },
   "outputs": [],
   "source": [
    "import numpy\n",
    "# convert an array of values into a dataset matrix\n",
    "def create_dataset(dataset, time_step=1):\n",
    "    dataX, dataY = [], []\n",
    "    for i in range(len(dataset)-time_step-1):\n",
    "        a = dataset[i:(i+time_step), 0]   ###i=0, 0,1,2,3-----99   100 \n",
    "        dataX.append(a)\n",
    "        dataY.append(dataset[i + time_step, 0])\n",
    "    return numpy.array(dataX), numpy.array(dataY)"
   ]
  },
  {
   "cell_type": "code",
   "execution_count": 14,
   "id": "fa325428-ea2f-4c14-a3cf-5a47233e95b1",
   "metadata": {
    "tags": []
   },
   "outputs": [],
   "source": [
    "# reshape into X=t,t+1,t+2,t+3 and Y=t+4\n",
    "time_step = 100\n",
    "X_train, y_train = create_dataset(train_data, time_step)\n",
    "X_test, ytest = create_dataset(test_data, time_step)"
   ]
  },
  {
   "cell_type": "code",
   "execution_count": 15,
   "id": "58256c44-ed5f-4ed3-84be-6468b1abceb2",
   "metadata": {
    "tags": []
   },
   "outputs": [
    {
     "name": "stdout",
     "output_type": "stream",
     "text": [
      "(4130, 100)\n",
      "(4130,)\n"
     ]
    },
    {
     "data": {
      "text/plain": [
       "(None, None)"
      ]
     },
     "execution_count": 15,
     "metadata": {},
     "output_type": "execute_result"
    }
   ],
   "source": [
    "print(X_train.shape), print(y_train.shape)"
   ]
  },
  {
   "cell_type": "code",
   "execution_count": 16,
   "id": "446d51e0-93fe-41a9-9f8a-666172f02417",
   "metadata": {
    "tags": []
   },
   "outputs": [
    {
     "name": "stdout",
     "output_type": "stream",
     "text": [
      "(957, 100)\n",
      "(957,)\n"
     ]
    },
    {
     "data": {
      "text/plain": [
       "(None, None)"
      ]
     },
     "execution_count": 16,
     "metadata": {},
     "output_type": "execute_result"
    }
   ],
   "source": [
    "print(X_test.shape), print(ytest.shape)"
   ]
  },
  {
   "cell_type": "code",
   "execution_count": 17,
   "id": "dc7478d7-2532-4b80-95cd-51701526ac30",
   "metadata": {
    "tags": []
   },
   "outputs": [],
   "source": [
    "# reshape input to be [samples, time steps, features] which is required for LSTM\n",
    "X_train =X_train.reshape(X_train.shape[0],X_train.shape[1] , 1)\n",
    "X_test = X_test.reshape(X_test.shape[0],X_test.shape[1] , 1)"
   ]
  },
  {
   "cell_type": "code",
   "execution_count": 18,
   "id": "80e0a164-d5de-4d26-a6d9-494567f915bd",
   "metadata": {
    "tags": []
   },
   "outputs": [
    {
     "name": "stdout",
     "output_type": "stream",
     "text": [
      "(4130, 100, 1)\n",
      "(4130,)\n"
     ]
    },
    {
     "data": {
      "text/plain": [
       "(None, None)"
      ]
     },
     "execution_count": 18,
     "metadata": {},
     "output_type": "execute_result"
    }
   ],
   "source": [
    "print(X_train.shape), print(y_train.shape)"
   ]
  },
  {
   "cell_type": "code",
   "execution_count": 19,
   "id": "94003149-c4d6-47a4-bab2-8fe027c7c0ae",
   "metadata": {
    "tags": []
   },
   "outputs": [
    {
     "name": "stdout",
     "output_type": "stream",
     "text": [
      "(957, 100, 1)\n",
      "(957,)\n"
     ]
    },
    {
     "data": {
      "text/plain": [
       "(None, None)"
      ]
     },
     "execution_count": 19,
     "metadata": {},
     "output_type": "execute_result"
    }
   ],
   "source": [
    "print(X_test.shape), print(ytest.shape)"
   ]
  },
  {
   "cell_type": "markdown",
   "id": "f2fefa02-438b-4089-9e49-72324f2a0e2a",
   "metadata": {},
   "source": [
    "## Create Stacked LSTM Model"
   ]
  },
  {
   "cell_type": "code",
   "execution_count": 20,
   "id": "8defaf40-8ccb-48ee-946a-edc77511c353",
   "metadata": {
    "tags": []
   },
   "outputs": [],
   "source": [
    "### Create the Stacked LSTM model\n",
    "from tensorflow.keras.models import Sequential\n",
    "from tensorflow.keras.layers import Dense\n",
    "from tensorflow.keras.layers import LSTM\n",
    "from tensorflow.keras.optimizers import Adam"
   ]
  },
  {
   "cell_type": "code",
   "execution_count": 21,
   "id": "899c25ed-fcbd-42af-892f-8a97637a4a02",
   "metadata": {
    "tags": []
   },
   "outputs": [],
   "source": [
    "model=Sequential()\n",
    "model.add(LSTM(100,return_sequences=True,input_shape=(100,1)))\n",
    "model.add(LSTM(100,return_sequences=True))\n",
    "#model.add(LSTM(100,return_sequences=True))\n",
    "model.add(LSTM(100))\n",
    "model.add(Dense(1))\n",
    "optimizer = Adam(clipvalue=1.0)\n",
    "model.compile(loss='mean_squared_error',optimizer=optimizer)"
   ]
  },
  {
   "cell_type": "code",
   "execution_count": 22,
   "id": "205a41d2-86fa-4f61-ba67-53c951e053e0",
   "metadata": {
    "tags": []
   },
   "outputs": [
    {
     "name": "stdout",
     "output_type": "stream",
     "text": [
      "Model: \"sequential\"\n",
      "_________________________________________________________________\n",
      " Layer (type)                Output Shape              Param #   \n",
      "=================================================================\n",
      " lstm (LSTM)                 (None, 100, 100)          40800     \n",
      "                                                                 \n",
      " lstm_1 (LSTM)               (None, 100, 100)          80400     \n",
      "                                                                 \n",
      " lstm_2 (LSTM)               (None, 100)               80400     \n",
      "                                                                 \n",
      " dense (Dense)               (None, 1)                 101       \n",
      "                                                                 \n",
      "=================================================================\n",
      "Total params: 201701 (787.89 KB)\n",
      "Trainable params: 201701 (787.89 KB)\n",
      "Non-trainable params: 0 (0.00 Byte)\n",
      "_________________________________________________________________\n"
     ]
    }
   ],
   "source": [
    "model.summary()"
   ]
  },
  {
   "cell_type": "code",
   "execution_count": 23,
   "id": "3997221e-1857-49ad-b48f-320cc3dadd2e",
   "metadata": {
    "tags": []
   },
   "outputs": [
    {
     "data": {
      "text/plain": [
       "array([[0.00513931],\n",
       "       [0.00679355],\n",
       "       [0.00816899],\n",
       "       [0.00745339],\n",
       "       [0.00774149],\n",
       "       [0.0073047 ],\n",
       "       [0.00714671],\n",
       "       [0.00704448],\n",
       "       [0.00684002],\n",
       "       [0.00684002],\n",
       "       [0.00641252],\n",
       "       [0.00618018],\n",
       "       [0.00636605],\n",
       "       [0.00639393],\n",
       "       [0.00650546],\n",
       "       [0.00631029],\n",
       "       [0.0064404 ],\n",
       "       [0.00577127],\n",
       "       [0.00542741],\n",
       "       [0.00497203],\n",
       "       [0.00580844],\n",
       "       [0.00509284],\n",
       "       [0.0055854 ],\n",
       "       [0.00635676],\n",
       "       [0.00559469],\n",
       "       [0.00493485],\n",
       "       [0.00479545],\n",
       "       [0.00487909],\n",
       "       [0.00468393],\n",
       "       [0.00466534],\n",
       "       [0.00442371],\n",
       "       [0.00441441],\n",
       "       [0.00404267],\n",
       "       [0.00404267],\n",
       "       [0.00439583],\n",
       "       [0.00471181],\n",
       "       [0.00454452],\n",
       "       [0.00460029],\n",
       "       [0.004433  ],\n",
       "       [0.00535306],\n",
       "       [0.00535306],\n",
       "       [0.00542741],\n",
       "       [0.00533447],\n",
       "       [0.00526942],\n",
       "       [0.00614301],\n",
       "       [0.00589208],\n",
       "       [0.00554822],\n",
       "       [0.00536235],\n",
       "       [0.00550176],\n",
       "       [0.0060129 ],\n",
       "       [0.0057248 ],\n",
       "       [0.0057248 ],\n",
       "       [0.00621736],\n",
       "       [0.00621736],\n",
       "       [0.00608725],\n",
       "       [0.00598502],\n",
       "       [0.00617089],\n",
       "       [0.00628241],\n",
       "       [0.00661698],\n",
       "       [0.00563187],\n",
       "       [0.00510213],\n",
       "       [0.00525083],\n",
       "       [0.00491626],\n",
       "       [0.00460958],\n",
       "       [0.00510213],\n",
       "       [0.00552964],\n",
       "       [0.00637535],\n",
       "       [0.00637535],\n",
       "       [0.0058642 ],\n",
       "       [0.00609654],\n",
       "       [0.00606866],\n",
       "       [0.00519507],\n",
       "       [0.0048605 ],\n",
       "       [0.00456311],\n",
       "       [0.00508355],\n",
       "       [0.00521366],\n",
       "       [0.00521366],\n",
       "       [0.00504637],\n",
       "       [0.0048605 ],\n",
       "       [0.00353153],\n",
       "       [0.00380104],\n",
       "       [0.00306686],\n",
       "       [0.00361517],\n",
       "       [0.00241631],\n",
       "       [0.00296463],\n",
       "       [0.00390327],\n",
       "       [0.00454452],\n",
       "       [0.00406126],\n",
       "       [0.00452594],\n",
       "       [0.00388469],\n",
       "       [0.00389398],\n",
       "       [0.00364305],\n",
       "       [0.00364305],\n",
       "       [0.00259289],\n",
       "       [0.00193305],\n",
       "       [0.00194234],\n",
       "       [0.00121745],\n",
       "       [0.        ],\n",
       "       [0.00146837],\n",
       "       [0.00176577]])"
      ]
     },
     "execution_count": 23,
     "metadata": {},
     "output_type": "execute_result"
    }
   ],
   "source": [
    "X_train[0]"
   ]
  },
  {
   "cell_type": "code",
   "execution_count": 24,
   "id": "9dee93fe-1bd9-4254-9077-68323e2b9161",
   "metadata": {
    "tags": []
   },
   "outputs": [
    {
     "data": {
      "text/plain": [
       "0.0022769086713905866"
      ]
     },
     "execution_count": 24,
     "metadata": {},
     "output_type": "execute_result"
    }
   ],
   "source": [
    "y_train[0]"
   ]
  },
  {
   "cell_type": "code",
   "execution_count": 25,
   "id": "94d4be8a-1d42-4cfd-86ca-c67d3d235cb7",
   "metadata": {
    "tags": []
   },
   "outputs": [
    {
     "data": {
      "text/plain": [
       "(4130,)"
      ]
     },
     "execution_count": 25,
     "metadata": {},
     "output_type": "execute_result"
    }
   ],
   "source": [
    "y_train.shape"
   ]
  },
  {
   "cell_type": "code",
   "execution_count": 26,
   "id": "940f9739-cae0-415d-9277-453edf81478d",
   "metadata": {
    "tags": []
   },
   "outputs": [],
   "source": [
    "from sklearn.impute import SimpleImputer\n",
    "\n",
    "imputer = SimpleImputer(strategy='mean')  # Replace with the desired strategy\n",
    "y_train = imputer.fit_transform(y_train.reshape(-1, 1))\n",
    "ytest = imputer.fit_transform(ytest.reshape(-1, 1))"
   ]
  },
  {
   "cell_type": "code",
   "execution_count": 27,
   "id": "1ee2d88b-5531-43b2-b3af-5b6924811d14",
   "metadata": {
    "tags": []
   },
   "outputs": [
    {
     "data": {
      "text/plain": [
       "array([0.00227691])"
      ]
     },
     "execution_count": 27,
     "metadata": {},
     "output_type": "execute_result"
    }
   ],
   "source": [
    "y_train[0]"
   ]
  },
  {
   "cell_type": "code",
   "execution_count": 28,
   "id": "7093c28e-3e26-4de3-9e64-4d21e8ed1437",
   "metadata": {
    "tags": []
   },
   "outputs": [
    {
     "name": "stdout",
     "output_type": "stream",
     "text": [
      "Epoch 1/50\n",
      "130/130 [==============================] - 22s 140ms/step - loss: 9.4788e-04 - val_loss: 0.0014\n",
      "Epoch 2/50\n",
      "130/130 [==============================] - 19s 144ms/step - loss: 1.4095e-04 - val_loss: 0.0016\n",
      "Epoch 3/50\n",
      "130/130 [==============================] - 19s 147ms/step - loss: 1.2159e-04 - val_loss: 0.0020\n",
      "Epoch 4/50\n",
      "130/130 [==============================] - 19s 150ms/step - loss: 1.1063e-04 - val_loss: 0.0027\n",
      "Epoch 5/50\n",
      "130/130 [==============================] - 20s 154ms/step - loss: 1.1882e-04 - val_loss: 0.0024\n",
      "Epoch 6/50\n",
      "130/130 [==============================] - 20s 151ms/step - loss: 8.8182e-05 - val_loss: 4.8013e-04\n",
      "Epoch 7/50\n",
      "130/130 [==============================] - 19s 149ms/step - loss: 7.8537e-05 - val_loss: 0.0022\n",
      "Epoch 8/50\n",
      "130/130 [==============================] - 20s 152ms/step - loss: 8.3081e-05 - val_loss: 4.0941e-04\n",
      "Epoch 9/50\n",
      "130/130 [==============================] - 19s 149ms/step - loss: 6.9104e-05 - val_loss: 8.4092e-04\n",
      "Epoch 10/50\n",
      "130/130 [==============================] - 20s 157ms/step - loss: 6.5947e-05 - val_loss: 3.1503e-04\n",
      "Epoch 11/50\n",
      "130/130 [==============================] - 19s 149ms/step - loss: 5.5390e-05 - val_loss: 2.6501e-04\n",
      "Epoch 12/50\n",
      "130/130 [==============================] - 19s 148ms/step - loss: 4.9715e-05 - val_loss: 3.8431e-04\n",
      "Epoch 13/50\n",
      "130/130 [==============================] - 20s 153ms/step - loss: 4.7626e-05 - val_loss: 3.2633e-04\n",
      "Epoch 14/50\n",
      "130/130 [==============================] - 21s 159ms/step - loss: 4.1036e-05 - val_loss: 5.3186e-04\n",
      "Epoch 15/50\n",
      "130/130 [==============================] - 20s 152ms/step - loss: 5.0971e-05 - val_loss: 3.0901e-04\n",
      "Epoch 16/50\n",
      "130/130 [==============================] - 19s 148ms/step - loss: 4.1629e-05 - val_loss: 2.0736e-04\n",
      "Epoch 17/50\n",
      "130/130 [==============================] - 19s 149ms/step - loss: 3.0676e-05 - val_loss: 3.3547e-04\n",
      "Epoch 18/50\n",
      "130/130 [==============================] - 19s 147ms/step - loss: 3.1254e-05 - val_loss: 1.6904e-04\n",
      "Epoch 19/50\n",
      "130/130 [==============================] - 20s 153ms/step - loss: 2.7426e-05 - val_loss: 0.0013\n",
      "Epoch 20/50\n",
      "130/130 [==============================] - 20s 157ms/step - loss: 3.8265e-05 - val_loss: 1.5823e-04\n",
      "Epoch 21/50\n",
      "130/130 [==============================] - 21s 160ms/step - loss: 2.8630e-05 - val_loss: 8.0417e-04\n",
      "Epoch 22/50\n",
      "130/130 [==============================] - 20s 156ms/step - loss: 2.4199e-05 - val_loss: 5.4671e-04\n",
      "Epoch 23/50\n",
      "130/130 [==============================] - 19s 149ms/step - loss: 3.1144e-05 - val_loss: 7.3620e-04\n",
      "Epoch 24/50\n",
      "130/130 [==============================] - 19s 147ms/step - loss: 2.8068e-05 - val_loss: 3.4895e-04\n",
      "Epoch 25/50\n",
      "130/130 [==============================] - 19s 146ms/step - loss: 2.4910e-05 - val_loss: 9.3936e-04\n",
      "Epoch 26/50\n",
      "130/130 [==============================] - 19s 149ms/step - loss: 2.4997e-05 - val_loss: 1.9256e-04\n",
      "Epoch 27/50\n",
      "130/130 [==============================] - 20s 155ms/step - loss: 2.3363e-05 - val_loss: 1.6507e-04\n",
      "Epoch 28/50\n",
      "130/130 [==============================] - 20s 155ms/step - loss: 2.3138e-05 - val_loss: 0.0011\n",
      "Epoch 29/50\n",
      "130/130 [==============================] - 22s 168ms/step - loss: 2.8151e-05 - val_loss: 1.7892e-04\n",
      "Epoch 30/50\n",
      "130/130 [==============================] - 21s 159ms/step - loss: 2.5949e-05 - val_loss: 1.6514e-04\n",
      "Epoch 31/50\n",
      "130/130 [==============================] - 21s 164ms/step - loss: 2.4178e-05 - val_loss: 1.7098e-04\n",
      "Epoch 32/50\n",
      "130/130 [==============================] - 19s 149ms/step - loss: 2.3568e-05 - val_loss: 2.5332e-04\n",
      "Epoch 33/50\n",
      "130/130 [==============================] - 21s 161ms/step - loss: 2.2240e-05 - val_loss: 3.8848e-04\n",
      "Epoch 34/50\n",
      "130/130 [==============================] - 20s 154ms/step - loss: 2.2993e-05 - val_loss: 4.2659e-04\n",
      "Epoch 35/50\n",
      "130/130 [==============================] - 20s 153ms/step - loss: 2.5392e-05 - val_loss: 2.1368e-04\n",
      "Epoch 36/50\n",
      "130/130 [==============================] - 19s 148ms/step - loss: 2.5909e-05 - val_loss: 3.5748e-04\n",
      "Epoch 37/50\n",
      "130/130 [==============================] - 18s 141ms/step - loss: 2.8949e-05 - val_loss: 2.2295e-04\n",
      "Epoch 38/50\n",
      "130/130 [==============================] - 17s 133ms/step - loss: 2.2226e-05 - val_loss: 5.0153e-04\n",
      "Epoch 39/50\n",
      "130/130 [==============================] - 17s 133ms/step - loss: 2.4520e-05 - val_loss: 4.8285e-04\n",
      "Epoch 40/50\n",
      "130/130 [==============================] - 17s 134ms/step - loss: 2.3264e-05 - val_loss: 3.2549e-04\n",
      "Epoch 41/50\n",
      "130/130 [==============================] - 17s 134ms/step - loss: 2.3932e-05 - val_loss: 1.8422e-04\n",
      "Epoch 42/50\n",
      "130/130 [==============================] - 18s 135ms/step - loss: 2.2203e-05 - val_loss: 2.5292e-04\n",
      "Epoch 43/50\n",
      "130/130 [==============================] - 18s 138ms/step - loss: 2.6602e-05 - val_loss: 1.8378e-04\n",
      "Epoch 44/50\n",
      "130/130 [==============================] - 19s 146ms/step - loss: 2.6392e-05 - val_loss: 2.0967e-04\n",
      "Epoch 45/50\n",
      "130/130 [==============================] - 19s 146ms/step - loss: 2.3579e-05 - val_loss: 1.6502e-04\n",
      "Epoch 46/50\n",
      "130/130 [==============================] - 20s 153ms/step - loss: 2.2664e-05 - val_loss: 2.1692e-04\n",
      "Epoch 47/50\n",
      "130/130 [==============================] - 20s 152ms/step - loss: 2.5014e-05 - val_loss: 3.3842e-04\n",
      "Epoch 48/50\n",
      "130/130 [==============================] - 20s 157ms/step - loss: 2.1971e-05 - val_loss: 4.4174e-04\n",
      "Epoch 49/50\n",
      "130/130 [==============================] - 19s 143ms/step - loss: 2.5610e-05 - val_loss: 2.7541e-04\n",
      "Epoch 50/50\n",
      "130/130 [==============================] - 19s 145ms/step - loss: 2.5991e-05 - val_loss: 1.8150e-04\n"
     ]
    },
    {
     "data": {
      "text/plain": [
       "<keras.src.callbacks.History at 0x1874b8495d0>"
      ]
     },
     "execution_count": 28,
     "metadata": {},
     "output_type": "execute_result"
    }
   ],
   "source": [
    "model.fit(X_train,y_train,validation_data=(X_test,ytest),epochs=50,batch_size=32,verbose=1)"
   ]
  },
  {
   "cell_type": "code",
   "execution_count": null,
   "id": "bb43919a-afe3-411c-935f-c4e6a36fba15",
   "metadata": {
    "tags": []
   },
   "outputs": [],
   "source": []
  },
  {
   "cell_type": "code",
   "execution_count": 29,
   "id": "bf074cf8-5e61-4139-ace0-73492f38ac47",
   "metadata": {
    "tags": []
   },
   "outputs": [
    {
     "name": "stdout",
     "output_type": "stream",
     "text": [
      "130/130 [==============================] - 5s 35ms/step\n",
      "30/30 [==============================] - 1s 36ms/step\n"
     ]
    }
   ],
   "source": [
    "### Lets Do the prediction and check performance metrics\n",
    "train_predict=model.predict(X_train)\n",
    "test_predict=model.predict(X_test)"
   ]
  },
  {
   "cell_type": "code",
   "execution_count": 30,
   "id": "5e48a248-0b00-41d0-85c2-c23175bce85d",
   "metadata": {
    "tags": []
   },
   "outputs": [
    {
     "data": {
      "text/plain": [
       "array([[4.0305965e-04],\n",
       "       [8.5800141e-04],\n",
       "       [8.7470189e-04],\n",
       "       ...,\n",
       "       [4.2563823e-01],\n",
       "       [4.2524004e-01],\n",
       "       [4.2573944e-01]], dtype=float32)"
      ]
     },
     "execution_count": 30,
     "metadata": {},
     "output_type": "execute_result"
    }
   ],
   "source": [
    "train_predict"
   ]
  },
  {
   "cell_type": "code",
   "execution_count": 31,
   "id": "65aa6303-8853-495d-ae45-8e6a0b512e90",
   "metadata": {
    "tags": []
   },
   "outputs": [
    {
     "data": {
      "text/plain": [
       "array([[0.5182172 ],\n",
       "       [0.51457703],\n",
       "       [0.51761687],\n",
       "       [0.52006876],\n",
       "       [0.52572465],\n",
       "       [0.5266675 ],\n",
       "       [0.52838945],\n",
       "       [0.5307399 ],\n",
       "       [0.53260124],\n",
       "       [0.5324522 ]], dtype=float32)"
      ]
     },
     "execution_count": 31,
     "metadata": {},
     "output_type": "execute_result"
    }
   ],
   "source": [
    "test_predict[0:10]"
   ]
  },
  {
   "cell_type": "code",
   "execution_count": 32,
   "id": "20c3382b-dfb0-418d-808b-f5eeba772ec4",
   "metadata": {
    "tags": []
   },
   "outputs": [
    {
     "data": {
      "text/plain": [
       "array([[0.41750154],\n",
       "       [0.41995502],\n",
       "       [0.41550807],\n",
       "       ...,\n",
       "       [0.95379267],\n",
       "       [0.95496832],\n",
       "       [0.95195257]])"
      ]
     },
     "execution_count": 32,
     "metadata": {},
     "output_type": "execute_result"
    }
   ],
   "source": [
    "test_data"
   ]
  },
  {
   "cell_type": "code",
   "execution_count": 33,
   "id": "08a507b6-0ef4-4ace-8cf4-b5efb3c8adf8",
   "metadata": {
    "tags": []
   },
   "outputs": [],
   "source": [
    "test_data_o=scaler.inverse_transform(test_data)"
   ]
  },
  {
   "cell_type": "code",
   "execution_count": 34,
   "id": "616dbf75-a66d-43a4-8308-1077a6b6f30d",
   "metadata": {
    "tags": []
   },
   "outputs": [
    {
     "data": {
      "text/plain": [
       "array([[428.5       ],\n",
       "       [430.8999939 ],\n",
       "       [426.54998779],\n",
       "       ...,\n",
       "       [953.09997559],\n",
       "       [954.25      ],\n",
       "       [951.29998779]])"
      ]
     },
     "execution_count": 34,
     "metadata": {},
     "output_type": "execute_result"
    }
   ],
   "source": [
    "test_data_o"
   ]
  },
  {
   "cell_type": "code",
   "execution_count": 35,
   "id": "61fdc571-5fd7-4eb7-acf0-cea9bcc7bd53",
   "metadata": {
    "tags": []
   },
   "outputs": [],
   "source": [
    "##Transformback to original form\n",
    "train_predict=scaler.inverse_transform(train_predict)\n",
    "test_predict=scaler.inverse_transform(test_predict)"
   ]
  },
  {
   "cell_type": "code",
   "execution_count": 36,
   "id": "ae68dfe0-5232-4a8d-9b75-b390601f5072",
   "metadata": {
    "tags": []
   },
   "outputs": [
    {
     "data": {
      "text/plain": [
       "array([[527.02   ],\n",
       "       [523.4592 ],\n",
       "       [526.4328 ],\n",
       "       [528.83124],\n",
       "       [534.36383],\n",
       "       [535.2861 ],\n",
       "       [536.9705 ],\n",
       "       [539.2698 ],\n",
       "       [541.0905 ],\n",
       "       [540.94476]], dtype=float32)"
      ]
     },
     "execution_count": 36,
     "metadata": {},
     "output_type": "execute_result"
    }
   ],
   "source": [
    "test_predict[0:10]"
   ]
  },
  {
   "cell_type": "code",
   "execution_count": 37,
   "id": "5ea76002-3356-4489-93dc-a36c9ec1742a",
   "metadata": {
    "tags": []
   },
   "outputs": [
    {
     "data": {
      "text/plain": [
       "array([[428.5       ],\n",
       "       [430.8999939 ],\n",
       "       [426.54998779],\n",
       "       [427.04998779],\n",
       "       [422.29998779],\n",
       "       [424.6000061 ],\n",
       "       [424.70001221],\n",
       "       [418.6499939 ],\n",
       "       [410.29998779],\n",
       "       [411.5       ]])"
      ]
     },
     "execution_count": 37,
     "metadata": {},
     "output_type": "execute_result"
    }
   ],
   "source": [
    "test_data_o[0:10]"
   ]
  },
  {
   "cell_type": "code",
   "execution_count": 38,
   "id": "cdb7e29f-58fc-4e8f-9c1c-7883510a6fd5",
   "metadata": {
    "tags": []
   },
   "outputs": [
    {
     "name": "stdout",
     "output_type": "stream",
     "text": [
      "(957, 1)\n",
      "(957, 1)\n"
     ]
    }
   ],
   "source": [
    "print(test_data_o[101:].shape)\n",
    "print(test_predict.shape)\n"
   ]
  },
  {
   "cell_type": "code",
   "execution_count": 39,
   "id": "827867f6-cf10-4d57-9af2-5649eb5b7ba7",
   "metadata": {
    "tags": []
   },
   "outputs": [],
   "source": [
    "\n",
    "test_data_o = np.reshape(test_data_o[101:], (957, 1))\n",
    "test_predict_p = np.reshape(test_predict, (957, 1))\n"
   ]
  },
  {
   "cell_type": "code",
   "execution_count": 40,
   "id": "093151aa-f0ad-4c9a-a43b-3bd087f1cb45",
   "metadata": {
    "tags": []
   },
   "outputs": [],
   "source": [
    "\n",
    "test_data_o = np.reshape(test_data_o, 957)\n",
    "test_predict_p = np.reshape(test_predict, 957)\n",
    "\n",
    "dataset = pd.DataFrame({'y': test_data_o, 'yhat': test_predict_p}, columns=['y', 'yhat'])\n"
   ]
  },
  {
   "cell_type": "code",
   "execution_count": 41,
   "id": "e9830e57-59e8-45ae-8fbe-42d0dfb584bb",
   "metadata": {
    "tags": []
   },
   "outputs": [],
   "source": [
    "dataset = pd.DataFrame({'y': test_data_o, 'yhat': test_predict_p}, columns=['y', 'yhat'])"
   ]
  },
  {
   "cell_type": "code",
   "execution_count": 42,
   "id": "c8119556-f614-417a-b507-5ee95174c64f",
   "metadata": {
    "tags": []
   },
   "outputs": [
    {
     "data": {
      "text/html": [
       "<div>\n",
       "<style scoped>\n",
       "    .dataframe tbody tr th:only-of-type {\n",
       "        vertical-align: middle;\n",
       "    }\n",
       "\n",
       "    .dataframe tbody tr th {\n",
       "        vertical-align: top;\n",
       "    }\n",
       "\n",
       "    .dataframe thead th {\n",
       "        text-align: right;\n",
       "    }\n",
       "</style>\n",
       "<table border=\"1\" class=\"dataframe\">\n",
       "  <thead>\n",
       "    <tr style=\"text-align: right;\">\n",
       "      <th></th>\n",
       "      <th>y</th>\n",
       "      <th>yhat</th>\n",
       "    </tr>\n",
       "  </thead>\n",
       "  <tbody>\n",
       "    <tr>\n",
       "      <th>0</th>\n",
       "      <td>526.500000</td>\n",
       "      <td>527.020020</td>\n",
       "    </tr>\n",
       "    <tr>\n",
       "      <th>1</th>\n",
       "      <td>528.700012</td>\n",
       "      <td>523.459229</td>\n",
       "    </tr>\n",
       "    <tr>\n",
       "      <th>2</th>\n",
       "      <td>533.549988</td>\n",
       "      <td>526.432800</td>\n",
       "    </tr>\n",
       "    <tr>\n",
       "      <th>3</th>\n",
       "      <td>535.349976</td>\n",
       "      <td>528.831238</td>\n",
       "    </tr>\n",
       "    <tr>\n",
       "      <th>4</th>\n",
       "      <td>537.049988</td>\n",
       "      <td>534.363831</td>\n",
       "    </tr>\n",
       "    <tr>\n",
       "      <th>...</th>\n",
       "      <td>...</td>\n",
       "      <td>...</td>\n",
       "    </tr>\n",
       "    <tr>\n",
       "      <th>952</th>\n",
       "      <td>938.599976</td>\n",
       "      <td>935.266174</td>\n",
       "    </tr>\n",
       "    <tr>\n",
       "      <th>953</th>\n",
       "      <td>951.200012</td>\n",
       "      <td>935.069092</td>\n",
       "    </tr>\n",
       "    <tr>\n",
       "      <th>954</th>\n",
       "      <td>953.099976</td>\n",
       "      <td>925.046875</td>\n",
       "    </tr>\n",
       "    <tr>\n",
       "      <th>955</th>\n",
       "      <td>954.250000</td>\n",
       "      <td>945.510986</td>\n",
       "    </tr>\n",
       "    <tr>\n",
       "      <th>956</th>\n",
       "      <td>951.299988</td>\n",
       "      <td>941.258545</td>\n",
       "    </tr>\n",
       "  </tbody>\n",
       "</table>\n",
       "<p>957 rows × 2 columns</p>\n",
       "</div>"
      ],
      "text/plain": [
       "              y        yhat\n",
       "0    526.500000  527.020020\n",
       "1    528.700012  523.459229\n",
       "2    533.549988  526.432800\n",
       "3    535.349976  528.831238\n",
       "4    537.049988  534.363831\n",
       "..          ...         ...\n",
       "952  938.599976  935.266174\n",
       "953  951.200012  935.069092\n",
       "954  953.099976  925.046875\n",
       "955  954.250000  945.510986\n",
       "956  951.299988  941.258545\n",
       "\n",
       "[957 rows x 2 columns]"
      ]
     },
     "execution_count": 42,
     "metadata": {},
     "output_type": "execute_result"
    }
   ],
   "source": [
    "dataset"
   ]
  },
  {
   "cell_type": "code",
   "execution_count": 43,
   "id": "b622623f-3ef2-4d20-95d4-91cd3451f973",
   "metadata": {
    "tags": []
   },
   "outputs": [
    {
     "data": {
      "text/plain": [
       "<Axes: >"
      ]
     },
     "execution_count": 43,
     "metadata": {},
     "output_type": "execute_result"
    },
    {
     "data": {
      "image/png": "[encoded data removed]",
      "text/plain": [
       "<Figure size 1200x500 with 1 Axes>"
      ]
     },
     "metadata": {},
     "output_type": "display_data"
    }
   ],
   "source": [
    "dataset[['y','yhat']].plot(figsize=(12,5))"
   ]
  },
  {
   "cell_type": "code",
   "execution_count": 44,
   "id": "6fe4dfea-7f04-4883-87fc-f1b90c7bed9f",
   "metadata": {
    "tags": []
   },
   "outputs": [
    {
     "data": {
      "text/plain": [
       "<Axes: >"
      ]
     },
     "execution_count": 44,
     "metadata": {},
     "output_type": "execute_result"
    },
    {
     "data": {
      "image/png": "[encoded data removed]",
      "text/plain": [
       "<Figure size 1200x500 with 1 Axes>"
      ]
     },
     "metadata": {},
     "output_type": "display_data"
    }
   ],
   "source": [
    "dataset[['y','yhat']].plot(xlim=[900,956],figsize=(12,5))"
   ]
  },
  {
   "cell_type": "code",
   "execution_count": 45,
   "id": "1046936f-0377-4ade-8afa-173d8a1e8f02",
   "metadata": {
    "tags": []
   },
   "outputs": [
    {
     "name": "stdout",
     "output_type": "stream",
     "text": [
      "NaN values in y_true: 0\n",
      "NaN values in train_predict: 0\n"
     ]
    }
   ],
   "source": [
    "import numpy as np\n",
    "\n",
    "nan_indices_y_true = np.isnan(y_train)\n",
    "nan_indices_train_predict = np.isnan(train_predict)\n",
    "\n",
    "print(\"NaN values in y_true:\", np.sum(nan_indices_y_true))\n",
    "print(\"NaN values in train_predict:\", np.sum(nan_indices_train_predict))"
   ]
  },
  {
   "cell_type": "code",
   "execution_count": 46,
   "id": "b3ad862e-aa1b-4b40-a594-9986f8bdc064",
   "metadata": {
    "tags": []
   },
   "outputs": [
    {
     "data": {
      "text/plain": [
       "199.51668372448592"
      ]
     },
     "execution_count": 46,
     "metadata": {},
     "output_type": "execute_result"
    }
   ],
   "source": [
    "### Calculate RMSE performance metrics\n",
    "import math\n",
    "from sklearn.metrics import mean_squared_error\n",
    "math.sqrt(mean_squared_error(y_train,train_predict))"
   ]
  },
  {
   "cell_type": "code",
   "execution_count": 47,
   "id": "8445484a-43aa-4694-88c8-5307083970f8",
   "metadata": {
    "tags": []
   },
   "outputs": [
    {
     "data": {
      "text/plain": [
       "706.6197271380238"
      ]
     },
     "execution_count": 47,
     "metadata": {},
     "output_type": "execute_result"
    }
   ],
   "source": [
    "### Test Data RMSE\n",
    "math.sqrt(mean_squared_error(ytest,test_predict))"
   ]
  },
  {
   "cell_type": "code",
   "execution_count": 48,
   "id": "bbd71604-5c87-416f-8ac9-5e3dc4b01c44",
   "metadata": {},
   "outputs": [
    {
     "data": {
      "image/png": "[encoded data removed]",
      "text/plain": [
       "<Figure size 640x480 with 1 Axes>"
      ]
     },
     "metadata": {},
     "output_type": "display_data"
    }
   ],
   "source": [
    "### Plotting \n",
    "# shift train predictions for plotting\n",
    "look_back=100\n",
    "trainPredictPlot = numpy.empty_like(df1)\n",
    "trainPredictPlot[:, :] = np.nan\n",
    "trainPredictPlot[look_back:len(train_predict)+look_back, :] = train_predict\n",
    "# shift test predictions for plotting\n",
    "testPredictPlot = numpy.empty_like(df1)\n",
    "testPredictPlot[:, :] = numpy.nan\n",
    "testPredictPlot[len(train_predict)+(look_back*2)+1:len(df1)-1, :] = test_predict\n",
    "# plot baseline and predictions\n",
    "plt.plot(scaler.inverse_transform(df1))\n",
    "plt.plot(trainPredictPlot)\n",
    "plt.plot(testPredictPlot)\n",
    "plt.show()\n"
   ]
  },
  {
   "cell_type": "code",
   "execution_count": 49,
   "id": "2bdcd5a3-5226-48b0-8b65-507b2899df54",
   "metadata": {},
   "outputs": [
    {
     "data": {
      "text/plain": [
       "1058"
      ]
     },
     "execution_count": 49,
     "metadata": {},
     "output_type": "execute_result"
    }
   ],
   "source": [
    "len(test_data)"
   ]
  },
  {
   "cell_type": "code",
   "execution_count": 50,
   "id": "7d43c0b6-f4be-402d-8236-7cf0c86cebf0",
   "metadata": {},
   "outputs": [
    {
     "data": {
      "text/plain": [
       "(1, 100)"
      ]
     },
     "execution_count": 50,
     "metadata": {},
     "output_type": "execute_result"
    }
   ],
   "source": [
    "x_input=test_data[958:].reshape(1,-1)\n",
    "x_input.shape"
   ]
  },
  {
   "cell_type": "code",
   "execution_count": 51,
   "id": "caf25ae4-9404-4997-803d-ce1917fb78b3",
   "metadata": {},
   "outputs": [],
   "source": [
    "temp_input=list(x_input)\n",
    "temp_input=temp_input[0].tolist()"
   ]
  },
  {
   "cell_type": "code",
   "execution_count": 52,
   "id": "ddf92cc8-7827-4b26-be95-89c55053619b",
   "metadata": {},
   "outputs": [
    {
     "name": "stdout",
     "output_type": "stream",
     "text": [
      "[0.9390124]\n",
      "101\n",
      "1 day input [0.94106526 0.94024738 0.95133922 0.9487324  0.9505725  0.94975469\n",
      " 0.93641381 0.93850954 0.94730118 0.94254752 0.94060522 0.93825397\n",
      " 0.93840728 0.9362605  0.94402985 0.94019628 0.92670209 0.9344715\n",
      " 0.92317526 0.9256287  0.92475979 0.92583317 0.92353303 0.92757107\n",
      " 0.93641381 0.93641381 0.93488038 0.94300756 0.9452055  0.95880189\n",
      " 0.96023312 0.9469434  0.94898797 0.94546108 0.94489883 0.95645065\n",
      " 0.96089757 0.96974036 0.97664079 0.97459622 0.99723982 0.99867104\n",
      " 0.99355961 0.9963198  0.9981088  0.99177061 0.99785322 1.\n",
      " 0.99616643 0.98839708 0.96595789 0.97158047 0.97684526 0.98118998\n",
      " 0.97382951 0.96503781 0.9535371  0.96038642 0.95726846 0.9523104\n",
      " 0.95128812 0.95593951 0.95266818 0.9678491  0.96999594 0.97147826\n",
      " 0.97163157 0.96876918 0.95972198 0.95956861 0.96974036 0.96836024\n",
      " 0.96943369 0.95829075 0.9666224  0.97163157 0.97950318 0.99202618\n",
      " 0.99131057 0.9891638  0.99401965 0.99171951 0.98860155 0.96013085\n",
      " 0.95093028 0.9571151  0.94929465 0.94356981 0.94305867 0.95256597\n",
      " 0.94070742 0.93022899 0.94126967 0.94571665 0.93896952 0.95185036\n",
      " 0.95379267 0.95496832 0.95195257 0.93901241]\n",
      "1 day output [[0.9232316]]\n",
      "2 day input [0.94024738 0.95133922 0.9487324  0.9505725  0.94975469 0.93641381\n",
      " 0.93850954 0.94730118 0.94254752 0.94060522 0.93825397 0.93840728\n",
      " 0.9362605  0.94402985 0.94019628 0.92670209 0.9344715  0.92317526\n",
      " 0.9256287  0.92475979 0.92583317 0.92353303 0.92757107 0.93641381\n",
      " 0.93641381 0.93488038 0.94300756 0.9452055  0.95880189 0.96023312\n",
      " 0.9469434  0.94898797 0.94546108 0.94489883 0.95645065 0.96089757\n",
      " 0.96974036 0.97664079 0.97459622 0.99723982 0.99867104 0.99355961\n",
      " 0.9963198  0.9981088  0.99177061 0.99785322 1.         0.99616643\n",
      " 0.98839708 0.96595789 0.97158047 0.97684526 0.98118998 0.97382951\n",
      " 0.96503781 0.9535371  0.96038642 0.95726846 0.9523104  0.95128812\n",
      " 0.95593951 0.95266818 0.9678491  0.96999594 0.97147826 0.97163157\n",
      " 0.96876918 0.95972198 0.95956861 0.96974036 0.96836024 0.96943369\n",
      " 0.95829075 0.9666224  0.97163157 0.97950318 0.99202618 0.99131057\n",
      " 0.9891638  0.99401965 0.99171951 0.98860155 0.96013085 0.95093028\n",
      " 0.9571151  0.94929465 0.94356981 0.94305867 0.95256597 0.94070742\n",
      " 0.93022899 0.94126967 0.94571665 0.93896952 0.95185036 0.95379267\n",
      " 0.95496832 0.95195257 0.93901241 0.9232316 ]\n",
      "2 day output [[0.90812397]]\n",
      "3 day input [0.95133922 0.9487324  0.9505725  0.94975469 0.93641381 0.93850954\n",
      " 0.94730118 0.94254752 0.94060522 0.93825397 0.93840728 0.9362605\n",
      " 0.94402985 0.94019628 0.92670209 0.9344715  0.92317526 0.9256287\n",
      " 0.92475979 0.92583317 0.92353303 0.92757107 0.93641381 0.93641381\n",
      " 0.93488038 0.94300756 0.9452055  0.95880189 0.96023312 0.9469434\n",
      " 0.94898797 0.94546108 0.94489883 0.95645065 0.96089757 0.96974036\n",
      " 0.97664079 0.97459622 0.99723982 0.99867104 0.99355961 0.9963198\n",
      " 0.9981088  0.99177061 0.99785322 1.         0.99616643 0.98839708\n",
      " 0.96595789 0.97158047 0.97684526 0.98118998 0.97382951 0.96503781\n",
      " 0.9535371  0.96038642 0.95726846 0.9523104  0.95128812 0.95593951\n",
      " 0.95266818 0.9678491  0.96999594 0.97147826 0.97163157 0.96876918\n",
      " 0.95972198 0.95956861 0.96974036 0.96836024 0.96943369 0.95829075\n",
      " 0.9666224  0.97163157 0.97950318 0.99202618 0.99131057 0.9891638\n",
      " 0.99401965 0.99171951 0.98860155 0.96013085 0.95093028 0.9571151\n",
      " 0.94929465 0.94356981 0.94305867 0.95256597 0.94070742 0.93022899\n",
      " 0.94126967 0.94571665 0.93896952 0.95185036 0.95379267 0.95496832\n",
      " 0.95195257 0.93901241 0.9232316  0.90812397]\n",
      "3 day output [[0.8944167]]\n",
      "4 day input [0.9487324  0.9505725  0.94975469 0.93641381 0.93850954 0.94730118\n",
      " 0.94254752 0.94060522 0.93825397 0.93840728 0.9362605  0.94402985\n",
      " 0.94019628 0.92670209 0.9344715  0.92317526 0.9256287  0.92475979\n",
      " 0.92583317 0.92353303 0.92757107 0.93641381 0.93641381 0.93488038\n",
      " 0.94300756 0.9452055  0.95880189 0.96023312 0.9469434  0.94898797\n",
      " 0.94546108 0.94489883 0.95645065 0.96089757 0.96974036 0.97664079\n",
      " 0.97459622 0.99723982 0.99867104 0.99355961 0.9963198  0.9981088\n",
      " 0.99177061 0.99785322 1.         0.99616643 0.98839708 0.96595789\n",
      " 0.97158047 0.97684526 0.98118998 0.97382951 0.96503781 0.9535371\n",
      " 0.96038642 0.95726846 0.9523104  0.95128812 0.95593951 0.95266818\n",
      " 0.9678491  0.96999594 0.97147826 0.97163157 0.96876918 0.95972198\n",
      " 0.95956861 0.96974036 0.96836024 0.96943369 0.95829075 0.9666224\n",
      " 0.97163157 0.97950318 0.99202618 0.99131057 0.9891638  0.99401965\n",
      " 0.99171951 0.98860155 0.96013085 0.95093028 0.9571151  0.94929465\n",
      " 0.94356981 0.94305867 0.95256597 0.94070742 0.93022899 0.94126967\n",
      " 0.94571665 0.93896952 0.95185036 0.95379267 0.95496832 0.95195257\n",
      " 0.93901241 0.9232316  0.90812397 0.89441669]\n",
      "4 day output [[0.88203526]]\n",
      "5 day input [0.9505725  0.94975469 0.93641381 0.93850954 0.94730118 0.94254752\n",
      " 0.94060522 0.93825397 0.93840728 0.9362605  0.94402985 0.94019628\n",
      " 0.92670209 0.9344715  0.92317526 0.9256287  0.92475979 0.92583317\n",
      " 0.92353303 0.92757107 0.93641381 0.93641381 0.93488038 0.94300756\n",
      " 0.9452055  0.95880189 0.96023312 0.9469434  0.94898797 0.94546108\n",
      " 0.94489883 0.95645065 0.96089757 0.96974036 0.97664079 0.97459622\n",
      " 0.99723982 0.99867104 0.99355961 0.9963198  0.9981088  0.99177061\n",
      " 0.99785322 1.         0.99616643 0.98839708 0.96595789 0.97158047\n",
      " 0.97684526 0.98118998 0.97382951 0.96503781 0.9535371  0.96038642\n",
      " 0.95726846 0.9523104  0.95128812 0.95593951 0.95266818 0.9678491\n",
      " 0.96999594 0.97147826 0.97163157 0.96876918 0.95972198 0.95956861\n",
      " 0.96974036 0.96836024 0.96943369 0.95829075 0.9666224  0.97163157\n",
      " 0.97950318 0.99202618 0.99131057 0.9891638  0.99401965 0.99171951\n",
      " 0.98860155 0.96013085 0.95093028 0.9571151  0.94929465 0.94356981\n",
      " 0.94305867 0.95256597 0.94070742 0.93022899 0.94126967 0.94571665\n",
      " 0.93896952 0.95185036 0.95379267 0.95496832 0.95195257 0.93901241\n",
      " 0.9232316  0.90812397 0.89441669 0.88203526]\n",
      "5 day output [[0.8706745]]\n",
      "6 day input [0.94975469 0.93641381 0.93850954 0.94730118 0.94254752 0.94060522\n",
      " 0.93825397 0.93840728 0.9362605  0.94402985 0.94019628 0.92670209\n",
      " 0.9344715  0.92317526 0.9256287  0.92475979 0.92583317 0.92353303\n",
      " 0.92757107 0.93641381 0.93641381 0.93488038 0.94300756 0.9452055\n",
      " 0.95880189 0.96023312 0.9469434  0.94898797 0.94546108 0.94489883\n",
      " 0.95645065 0.96089757 0.96974036 0.97664079 0.97459622 0.99723982\n",
      " 0.99867104 0.99355961 0.9963198  0.9981088  0.99177061 0.99785322\n",
      " 1.         0.99616643 0.98839708 0.96595789 0.97158047 0.97684526\n",
      " 0.98118998 0.97382951 0.96503781 0.9535371  0.96038642 0.95726846\n",
      " 0.9523104  0.95128812 0.95593951 0.95266818 0.9678491  0.96999594\n",
      " 0.97147826 0.97163157 0.96876918 0.95972198 0.95956861 0.96974036\n",
      " 0.96836024 0.96943369 0.95829075 0.9666224  0.97163157 0.97950318\n",
      " 0.99202618 0.99131057 0.9891638  0.99401965 0.99171951 0.98860155\n",
      " 0.96013085 0.95093028 0.9571151  0.94929465 0.94356981 0.94305867\n",
      " 0.95256597 0.94070742 0.93022899 0.94126967 0.94571665 0.93896952\n",
      " 0.95185036 0.95379267 0.95496832 0.95195257 0.93901241 0.9232316\n",
      " 0.90812397 0.89441669 0.88203526 0.87067449]\n",
      "6 day output [[0.86005974]]\n",
      "7 day input [0.93641381 0.93850954 0.94730118 0.94254752 0.94060522 0.93825397\n",
      " 0.93840728 0.9362605  0.94402985 0.94019628 0.92670209 0.9344715\n",
      " 0.92317526 0.9256287  0.92475979 0.92583317 0.92353303 0.92757107\n",
      " 0.93641381 0.93641381 0.93488038 0.94300756 0.9452055  0.95880189\n",
      " 0.96023312 0.9469434  0.94898797 0.94546108 0.94489883 0.95645065\n",
      " 0.96089757 0.96974036 0.97664079 0.97459622 0.99723982 0.99867104\n",
      " 0.99355961 0.9963198  0.9981088  0.99177061 0.99785322 1.\n",
      " 0.99616643 0.98839708 0.96595789 0.97158047 0.97684526 0.98118998\n",
      " 0.97382951 0.96503781 0.9535371  0.96038642 0.95726846 0.9523104\n",
      " 0.95128812 0.95593951 0.95266818 0.9678491  0.96999594 0.97147826\n",
      " 0.97163157 0.96876918 0.95972198 0.95956861 0.96974036 0.96836024\n",
      " 0.96943369 0.95829075 0.9666224  0.97163157 0.97950318 0.99202618\n",
      " 0.99131057 0.9891638  0.99401965 0.99171951 0.98860155 0.96013085\n",
      " 0.95093028 0.9571151  0.94929465 0.94356981 0.94305867 0.95256597\n",
      " 0.94070742 0.93022899 0.94126967 0.94571665 0.93896952 0.95185036\n",
      " 0.95379267 0.95496832 0.95195257 0.93901241 0.9232316  0.90812397\n",
      " 0.89441669 0.88203526 0.87067449 0.86005974]\n",
      "7 day output [[0.8500228]]\n",
      "8 day input [0.93850954 0.94730118 0.94254752 0.94060522 0.93825397 0.93840728\n",
      " 0.9362605  0.94402985 0.94019628 0.92670209 0.9344715  0.92317526\n",
      " 0.9256287  0.92475979 0.92583317 0.92353303 0.92757107 0.93641381\n",
      " 0.93641381 0.93488038 0.94300756 0.9452055  0.95880189 0.96023312\n",
      " 0.9469434  0.94898797 0.94546108 0.94489883 0.95645065 0.96089757\n",
      " 0.96974036 0.97664079 0.97459622 0.99723982 0.99867104 0.99355961\n",
      " 0.9963198  0.9981088  0.99177061 0.99785322 1.         0.99616643\n",
      " 0.98839708 0.96595789 0.97158047 0.97684526 0.98118998 0.97382951\n",
      " 0.96503781 0.9535371  0.96038642 0.95726846 0.9523104  0.95128812\n",
      " 0.95593951 0.95266818 0.9678491  0.96999594 0.97147826 0.97163157\n",
      " 0.96876918 0.95972198 0.95956861 0.96974036 0.96836024 0.96943369\n",
      " 0.95829075 0.9666224  0.97163157 0.97950318 0.99202618 0.99131057\n",
      " 0.9891638  0.99401965 0.99171951 0.98860155 0.96013085 0.95093028\n",
      " 0.9571151  0.94929465 0.94356981 0.94305867 0.95256597 0.94070742\n",
      " 0.93022899 0.94126967 0.94571665 0.93896952 0.95185036 0.95379267\n",
      " 0.95496832 0.95195257 0.93901241 0.9232316  0.90812397 0.89441669\n",
      " 0.88203526 0.87067449 0.86005974 0.85002279]\n",
      "8 day output [[0.84048927]]\n",
      "9 day input [0.94730118 0.94254752 0.94060522 0.93825397 0.93840728 0.9362605\n",
      " 0.94402985 0.94019628 0.92670209 0.9344715  0.92317526 0.9256287\n",
      " 0.92475979 0.92583317 0.92353303 0.92757107 0.93641381 0.93641381\n",
      " 0.93488038 0.94300756 0.9452055  0.95880189 0.96023312 0.9469434\n",
      " 0.94898797 0.94546108 0.94489883 0.95645065 0.96089757 0.96974036\n",
      " 0.97664079 0.97459622 0.99723982 0.99867104 0.99355961 0.9963198\n",
      " 0.9981088  0.99177061 0.99785322 1.         0.99616643 0.98839708\n",
      " 0.96595789 0.97158047 0.97684526 0.98118998 0.97382951 0.96503781\n",
      " 0.9535371  0.96038642 0.95726846 0.9523104  0.95128812 0.95593951\n",
      " 0.95266818 0.9678491  0.96999594 0.97147826 0.97163157 0.96876918\n",
      " 0.95972198 0.95956861 0.96974036 0.96836024 0.96943369 0.95829075\n",
      " 0.9666224  0.97163157 0.97950318 0.99202618 0.99131057 0.9891638\n",
      " 0.99401965 0.99171951 0.98860155 0.96013085 0.95093028 0.9571151\n",
      " 0.94929465 0.94356981 0.94305867 0.95256597 0.94070742 0.93022899\n",
      " 0.94126967 0.94571665 0.93896952 0.95185036 0.95379267 0.95496832\n",
      " 0.95195257 0.93901241 0.9232316  0.90812397 0.89441669 0.88203526\n",
      " 0.87067449 0.86005974 0.85002279 0.84048927]\n",
      "9 day output [[0.8314359]]\n",
      "10 day input [0.94254752 0.94060522 0.93825397 0.93840728 0.9362605  0.94402985\n",
      " 0.94019628 0.92670209 0.9344715  0.92317526 0.9256287  0.92475979\n",
      " 0.92583317 0.92353303 0.92757107 0.93641381 0.93641381 0.93488038\n",
      " 0.94300756 0.9452055  0.95880189 0.96023312 0.9469434  0.94898797\n",
      " 0.94546108 0.94489883 0.95645065 0.96089757 0.96974036 0.97664079\n",
      " 0.97459622 0.99723982 0.99867104 0.99355961 0.9963198  0.9981088\n",
      " 0.99177061 0.99785322 1.         0.99616643 0.98839708 0.96595789\n",
      " 0.97158047 0.97684526 0.98118998 0.97382951 0.96503781 0.9535371\n",
      " 0.96038642 0.95726846 0.9523104  0.95128812 0.95593951 0.95266818\n",
      " 0.9678491  0.96999594 0.97147826 0.97163157 0.96876918 0.95972198\n",
      " 0.95956861 0.96974036 0.96836024 0.96943369 0.95829075 0.9666224\n",
      " 0.97163157 0.97950318 0.99202618 0.99131057 0.9891638  0.99401965\n",
      " 0.99171951 0.98860155 0.96013085 0.95093028 0.9571151  0.94929465\n",
      " 0.94356981 0.94305867 0.95256597 0.94070742 0.93022899 0.94126967\n",
      " 0.94571665 0.93896952 0.95185036 0.95379267 0.95496832 0.95195257\n",
      " 0.93901241 0.9232316  0.90812397 0.89441669 0.88203526 0.87067449\n",
      " 0.86005974 0.85002279 0.84048927 0.83143592]\n",
      "10 day output [[0.8228593]]\n",
      "11 day input [0.94060522 0.93825397 0.93840728 0.9362605  0.94402985 0.94019628\n",
      " 0.92670209 0.9344715  0.92317526 0.9256287  0.92475979 0.92583317\n",
      " 0.92353303 0.92757107 0.93641381 0.93641381 0.93488038 0.94300756\n",
      " 0.9452055  0.95880189 0.96023312 0.9469434  0.94898797 0.94546108\n",
      " 0.94489883 0.95645065 0.96089757 0.96974036 0.97664079 0.97459622\n",
      " 0.99723982 0.99867104 0.99355961 0.9963198  0.9981088  0.99177061\n",
      " 0.99785322 1.         0.99616643 0.98839708 0.96595789 0.97158047\n",
      " 0.97684526 0.98118998 0.97382951 0.96503781 0.9535371  0.96038642\n",
      " 0.95726846 0.9523104  0.95128812 0.95593951 0.95266818 0.9678491\n",
      " 0.96999594 0.97147826 0.97163157 0.96876918 0.95972198 0.95956861\n",
      " 0.96974036 0.96836024 0.96943369 0.95829075 0.9666224  0.97163157\n",
      " 0.97950318 0.99202618 0.99131057 0.9891638  0.99401965 0.99171951\n",
      " 0.98860155 0.96013085 0.95093028 0.9571151  0.94929465 0.94356981\n",
      " 0.94305867 0.95256597 0.94070742 0.93022899 0.94126967 0.94571665\n",
      " 0.93896952 0.95185036 0.95379267 0.95496832 0.95195257 0.93901241\n",
      " 0.9232316  0.90812397 0.89441669 0.88203526 0.87067449 0.86005974\n",
      " 0.85002279 0.84048927 0.83143592 0.82285929]\n",
      "11 day output [[0.8147557]]\n",
      "12 day input [0.93825397 0.93840728 0.9362605  0.94402985 0.94019628 0.92670209\n",
      " 0.9344715  0.92317526 0.9256287  0.92475979 0.92583317 0.92353303\n",
      " 0.92757107 0.93641381 0.93641381 0.93488038 0.94300756 0.9452055\n",
      " 0.95880189 0.96023312 0.9469434  0.94898797 0.94546108 0.94489883\n",
      " 0.95645065 0.96089757 0.96974036 0.97664079 0.97459622 0.99723982\n",
      " 0.99867104 0.99355961 0.9963198  0.9981088  0.99177061 0.99785322\n",
      " 1.         0.99616643 0.98839708 0.96595789 0.97158047 0.97684526\n",
      " 0.98118998 0.97382951 0.96503781 0.9535371  0.96038642 0.95726846\n",
      " 0.9523104  0.95128812 0.95593951 0.95266818 0.9678491  0.96999594\n",
      " 0.97147826 0.97163157 0.96876918 0.95972198 0.95956861 0.96974036\n",
      " 0.96836024 0.96943369 0.95829075 0.9666224  0.97163157 0.97950318\n",
      " 0.99202618 0.99131057 0.9891638  0.99401965 0.99171951 0.98860155\n",
      " 0.96013085 0.95093028 0.9571151  0.94929465 0.94356981 0.94305867\n",
      " 0.95256597 0.94070742 0.93022899 0.94126967 0.94571665 0.93896952\n",
      " 0.95185036 0.95379267 0.95496832 0.95195257 0.93901241 0.9232316\n",
      " 0.90812397 0.89441669 0.88203526 0.87067449 0.86005974 0.85002279\n",
      " 0.84048927 0.83143592 0.82285929 0.81475568]\n",
      "12 day output [[0.8071134]]\n",
      "13 day input [0.93840728 0.9362605  0.94402985 0.94019628 0.92670209 0.9344715\n",
      " 0.92317526 0.9256287  0.92475979 0.92583317 0.92353303 0.92757107\n",
      " 0.93641381 0.93641381 0.93488038 0.94300756 0.9452055  0.95880189\n",
      " 0.96023312 0.9469434  0.94898797 0.94546108 0.94489883 0.95645065\n",
      " 0.96089757 0.96974036 0.97664079 0.97459622 0.99723982 0.99867104\n",
      " 0.99355961 0.9963198  0.9981088  0.99177061 0.99785322 1.\n",
      " 0.99616643 0.98839708 0.96595789 0.97158047 0.97684526 0.98118998\n",
      " 0.97382951 0.96503781 0.9535371  0.96038642 0.95726846 0.9523104\n",
      " 0.95128812 0.95593951 0.95266818 0.9678491  0.96999594 0.97147826\n",
      " 0.97163157 0.96876918 0.95972198 0.95956861 0.96974036 0.96836024\n",
      " 0.96943369 0.95829075 0.9666224  0.97163157 0.97950318 0.99202618\n",
      " 0.99131057 0.9891638  0.99401965 0.99171951 0.98860155 0.96013085\n",
      " 0.95093028 0.9571151  0.94929465 0.94356981 0.94305867 0.95256597\n",
      " 0.94070742 0.93022899 0.94126967 0.94571665 0.93896952 0.95185036\n",
      " 0.95379267 0.95496832 0.95195257 0.93901241 0.9232316  0.90812397\n",
      " 0.89441669 0.88203526 0.87067449 0.86005974 0.85002279 0.84048927\n",
      " 0.83143592 0.82285929 0.81475568 0.80711341]\n",
      "13 day output [[0.7999127]]\n",
      "14 day input [0.9362605  0.94402985 0.94019628 0.92670209 0.9344715  0.92317526\n",
      " 0.9256287  0.92475979 0.92583317 0.92353303 0.92757107 0.93641381\n",
      " 0.93641381 0.93488038 0.94300756 0.9452055  0.95880189 0.96023312\n",
      " 0.9469434  0.94898797 0.94546108 0.94489883 0.95645065 0.96089757\n",
      " 0.96974036 0.97664079 0.97459622 0.99723982 0.99867104 0.99355961\n",
      " 0.9963198  0.9981088  0.99177061 0.99785322 1.         0.99616643\n",
      " 0.98839708 0.96595789 0.97158047 0.97684526 0.98118998 0.97382951\n",
      " 0.96503781 0.9535371  0.96038642 0.95726846 0.9523104  0.95128812\n",
      " 0.95593951 0.95266818 0.9678491  0.96999594 0.97147826 0.97163157\n",
      " 0.96876918 0.95972198 0.95956861 0.96974036 0.96836024 0.96943369\n",
      " 0.95829075 0.9666224  0.97163157 0.97950318 0.99202618 0.99131057\n",
      " 0.9891638  0.99401965 0.99171951 0.98860155 0.96013085 0.95093028\n",
      " 0.9571151  0.94929465 0.94356981 0.94305867 0.95256597 0.94070742\n",
      " 0.93022899 0.94126967 0.94571665 0.93896952 0.95185036 0.95379267\n",
      " 0.95496832 0.95195257 0.93901241 0.9232316  0.90812397 0.89441669\n",
      " 0.88203526 0.87067449 0.86005974 0.85002279 0.84048927 0.83143592\n",
      " 0.82285929 0.81475568 0.80711341 0.79991269]\n",
      "14 day output [[0.79312813]]\n",
      "15 day input [0.94402985 0.94019628 0.92670209 0.9344715  0.92317526 0.9256287\n",
      " 0.92475979 0.92583317 0.92353303 0.92757107 0.93641381 0.93641381\n",
      " 0.93488038 0.94300756 0.9452055  0.95880189 0.96023312 0.9469434\n",
      " 0.94898797 0.94546108 0.94489883 0.95645065 0.96089757 0.96974036\n",
      " 0.97664079 0.97459622 0.99723982 0.99867104 0.99355961 0.9963198\n",
      " 0.9981088  0.99177061 0.99785322 1.         0.99616643 0.98839708\n",
      " 0.96595789 0.97158047 0.97684526 0.98118998 0.97382951 0.96503781\n",
      " 0.9535371  0.96038642 0.95726846 0.9523104  0.95128812 0.95593951\n",
      " 0.95266818 0.9678491  0.96999594 0.97147826 0.97163157 0.96876918\n",
      " 0.95972198 0.95956861 0.96974036 0.96836024 0.96943369 0.95829075\n",
      " 0.9666224  0.97163157 0.97950318 0.99202618 0.99131057 0.9891638\n",
      " 0.99401965 0.99171951 0.98860155 0.96013085 0.95093028 0.9571151\n",
      " 0.94929465 0.94356981 0.94305867 0.95256597 0.94070742 0.93022899\n",
      " 0.94126967 0.94571665 0.93896952 0.95185036 0.95379267 0.95496832\n",
      " 0.95195257 0.93901241 0.9232316  0.90812397 0.89441669 0.88203526\n",
      " 0.87067449 0.86005974 0.85002279 0.84048927 0.83143592 0.82285929\n",
      " 0.81475568 0.80711341 0.79991269 0.79312813]\n",
      "15 day output [[0.7867305]]\n",
      "16 day input [0.94019628 0.92670209 0.9344715  0.92317526 0.9256287  0.92475979\n",
      " 0.92583317 0.92353303 0.92757107 0.93641381 0.93641381 0.93488038\n",
      " 0.94300756 0.9452055  0.95880189 0.96023312 0.9469434  0.94898797\n",
      " 0.94546108 0.94489883 0.95645065 0.96089757 0.96974036 0.97664079\n",
      " 0.97459622 0.99723982 0.99867104 0.99355961 0.9963198  0.9981088\n",
      " 0.99177061 0.99785322 1.         0.99616643 0.98839708 0.96595789\n",
      " 0.97158047 0.97684526 0.98118998 0.97382951 0.96503781 0.9535371\n",
      " 0.96038642 0.95726846 0.9523104  0.95128812 0.95593951 0.95266818\n",
      " 0.9678491  0.96999594 0.97147826 0.97163157 0.96876918 0.95972198\n",
      " 0.95956861 0.96974036 0.96836024 0.96943369 0.95829075 0.9666224\n",
      " 0.97163157 0.97950318 0.99202618 0.99131057 0.9891638  0.99401965\n",
      " 0.99171951 0.98860155 0.96013085 0.95093028 0.9571151  0.94929465\n",
      " 0.94356981 0.94305867 0.95256597 0.94070742 0.93022899 0.94126967\n",
      " 0.94571665 0.93896952 0.95185036 0.95379267 0.95496832 0.95195257\n",
      " 0.93901241 0.9232316  0.90812397 0.89441669 0.88203526 0.87067449\n",
      " 0.86005974 0.85002279 0.84048927 0.83143592 0.82285929 0.81475568\n",
      " 0.80711341 0.79991269 0.79312813 0.78673053]\n",
      "16 day output [[0.7806902]]\n",
      "17 day input [0.92670209 0.9344715  0.92317526 0.9256287  0.92475979 0.92583317\n",
      " 0.92353303 0.92757107 0.93641381 0.93641381 0.93488038 0.94300756\n",
      " 0.9452055  0.95880189 0.96023312 0.9469434  0.94898797 0.94546108\n",
      " 0.94489883 0.95645065 0.96089757 0.96974036 0.97664079 0.97459622\n",
      " 0.99723982 0.99867104 0.99355961 0.9963198  0.9981088  0.99177061\n",
      " 0.99785322 1.         0.99616643 0.98839708 0.96595789 0.97158047\n",
      " 0.97684526 0.98118998 0.97382951 0.96503781 0.9535371  0.96038642\n",
      " 0.95726846 0.9523104  0.95128812 0.95593951 0.95266818 0.9678491\n",
      " 0.96999594 0.97147826 0.97163157 0.96876918 0.95972198 0.95956861\n",
      " 0.96974036 0.96836024 0.96943369 0.95829075 0.9666224  0.97163157\n",
      " 0.97950318 0.99202618 0.99131057 0.9891638  0.99401965 0.99171951\n",
      " 0.98860155 0.96013085 0.95093028 0.9571151  0.94929465 0.94356981\n",
      " 0.94305867 0.95256597 0.94070742 0.93022899 0.94126967 0.94571665\n",
      " 0.93896952 0.95185036 0.95379267 0.95496832 0.95195257 0.93901241\n",
      " 0.9232316  0.90812397 0.89441669 0.88203526 0.87067449 0.86005974\n",
      " 0.85002279 0.84048927 0.83143592 0.82285929 0.81475568 0.80711341\n",
      " 0.79991269 0.79312813 0.78673053 0.78069019]\n",
      "17 day output [[0.7749784]]\n",
      "18 day input [0.9344715  0.92317526 0.9256287  0.92475979 0.92583317 0.92353303\n",
      " 0.92757107 0.93641381 0.93641381 0.93488038 0.94300756 0.9452055\n",
      " 0.95880189 0.96023312 0.9469434  0.94898797 0.94546108 0.94489883\n",
      " 0.95645065 0.96089757 0.96974036 0.97664079 0.97459622 0.99723982\n",
      " 0.99867104 0.99355961 0.9963198  0.9981088  0.99177061 0.99785322\n",
      " 1.         0.99616643 0.98839708 0.96595789 0.97158047 0.97684526\n",
      " 0.98118998 0.97382951 0.96503781 0.9535371  0.96038642 0.95726846\n",
      " 0.9523104  0.95128812 0.95593951 0.95266818 0.9678491  0.96999594\n",
      " 0.97147826 0.97163157 0.96876918 0.95972198 0.95956861 0.96974036\n",
      " 0.96836024 0.96943369 0.95829075 0.9666224  0.97163157 0.97950318\n",
      " 0.99202618 0.99131057 0.9891638  0.99401965 0.99171951 0.98860155\n",
      " 0.96013085 0.95093028 0.9571151  0.94929465 0.94356981 0.94305867\n",
      " 0.95256597 0.94070742 0.93022899 0.94126967 0.94571665 0.93896952\n",
      " 0.95185036 0.95379267 0.95496832 0.95195257 0.93901241 0.9232316\n",
      " 0.90812397 0.89441669 0.88203526 0.87067449 0.86005974 0.85002279\n",
      " 0.84048927 0.83143592 0.82285929 0.81475568 0.80711341 0.79991269\n",
      " 0.79312813 0.78673053 0.78069019 0.7749784 ]\n",
      "18 day output [[0.76956713]]\n",
      "19 day input [0.92317526 0.9256287  0.92475979 0.92583317 0.92353303 0.92757107\n",
      " 0.93641381 0.93641381 0.93488038 0.94300756 0.9452055  0.95880189\n",
      " 0.96023312 0.9469434  0.94898797 0.94546108 0.94489883 0.95645065\n",
      " 0.96089757 0.96974036 0.97664079 0.97459622 0.99723982 0.99867104\n",
      " 0.99355961 0.9963198  0.9981088  0.99177061 0.99785322 1.\n",
      " 0.99616643 0.98839708 0.96595789 0.97158047 0.97684526 0.98118998\n",
      " 0.97382951 0.96503781 0.9535371  0.96038642 0.95726846 0.9523104\n",
      " 0.95128812 0.95593951 0.95266818 0.9678491  0.96999594 0.97147826\n",
      " 0.97163157 0.96876918 0.95972198 0.95956861 0.96974036 0.96836024\n",
      " 0.96943369 0.95829075 0.9666224  0.97163157 0.97950318 0.99202618\n",
      " 0.99131057 0.9891638  0.99401965 0.99171951 0.98860155 0.96013085\n",
      " 0.95093028 0.9571151  0.94929465 0.94356981 0.94305867 0.95256597\n",
      " 0.94070742 0.93022899 0.94126967 0.94571665 0.93896952 0.95185036\n",
      " 0.95379267 0.95496832 0.95195257 0.93901241 0.9232316  0.90812397\n",
      " 0.89441669 0.88203526 0.87067449 0.86005974 0.85002279 0.84048927\n",
      " 0.83143592 0.82285929 0.81475568 0.80711341 0.79991269 0.79312813\n",
      " 0.78673053 0.78069019 0.7749784  0.76956713]\n",
      "19 day output [[0.7644303]]\n",
      "20 day input [0.9256287  0.92475979 0.92583317 0.92353303 0.92757107 0.93641381\n",
      " 0.93641381 0.93488038 0.94300756 0.9452055  0.95880189 0.96023312\n",
      " 0.9469434  0.94898797 0.94546108 0.94489883 0.95645065 0.96089757\n",
      " 0.96974036 0.97664079 0.97459622 0.99723982 0.99867104 0.99355961\n",
      " 0.9963198  0.9981088  0.99177061 0.99785322 1.         0.99616643\n",
      " 0.98839708 0.96595789 0.97158047 0.97684526 0.98118998 0.97382951\n",
      " 0.96503781 0.9535371  0.96038642 0.95726846 0.9523104  0.95128812\n",
      " 0.95593951 0.95266818 0.9678491  0.96999594 0.97147826 0.97163157\n",
      " 0.96876918 0.95972198 0.95956861 0.96974036 0.96836024 0.96943369\n",
      " 0.95829075 0.9666224  0.97163157 0.97950318 0.99202618 0.99131057\n",
      " 0.9891638  0.99401965 0.99171951 0.98860155 0.96013085 0.95093028\n",
      " 0.9571151  0.94929465 0.94356981 0.94305867 0.95256597 0.94070742\n",
      " 0.93022899 0.94126967 0.94571665 0.93896952 0.95185036 0.95379267\n",
      " 0.95496832 0.95195257 0.93901241 0.9232316  0.90812397 0.89441669\n",
      " 0.88203526 0.87067449 0.86005974 0.85002279 0.84048927 0.83143592\n",
      " 0.82285929 0.81475568 0.80711341 0.79991269 0.79312813 0.78673053\n",
      " 0.78069019 0.7749784  0.76956713 0.76443028]\n",
      "20 day output [[0.7595432]]\n",
      "21 day input [0.92475979 0.92583317 0.92353303 0.92757107 0.93641381 0.93641381\n",
      " 0.93488038 0.94300756 0.9452055  0.95880189 0.96023312 0.9469434\n",
      " 0.94898797 0.94546108 0.94489883 0.95645065 0.96089757 0.96974036\n",
      " 0.97664079 0.97459622 0.99723982 0.99867104 0.99355961 0.9963198\n",
      " 0.9981088  0.99177061 0.99785322 1.         0.99616643 0.98839708\n",
      " 0.96595789 0.97158047 0.97684526 0.98118998 0.97382951 0.96503781\n",
      " 0.9535371  0.96038642 0.95726846 0.9523104  0.95128812 0.95593951\n",
      " 0.95266818 0.9678491  0.96999594 0.97147826 0.97163157 0.96876918\n",
      " 0.95972198 0.95956861 0.96974036 0.96836024 0.96943369 0.95829075\n",
      " 0.9666224  0.97163157 0.97950318 0.99202618 0.99131057 0.9891638\n",
      " 0.99401965 0.99171951 0.98860155 0.96013085 0.95093028 0.9571151\n",
      " 0.94929465 0.94356981 0.94305867 0.95256597 0.94070742 0.93022899\n",
      " 0.94126967 0.94571665 0.93896952 0.95185036 0.95379267 0.95496832\n",
      " 0.95195257 0.93901241 0.9232316  0.90812397 0.89441669 0.88203526\n",
      " 0.87067449 0.86005974 0.85002279 0.84048927 0.83143592 0.82285929\n",
      " 0.81475568 0.80711341 0.79991269 0.79312813 0.78673053 0.78069019\n",
      " 0.7749784  0.76956713 0.76443028 0.75954318]\n",
      "21 day output [[0.754884]]\n",
      "22 day input [0.92583317 0.92353303 0.92757107 0.93641381 0.93641381 0.93488038\n",
      " 0.94300756 0.9452055  0.95880189 0.96023312 0.9469434  0.94898797\n",
      " 0.94546108 0.94489883 0.95645065 0.96089757 0.96974036 0.97664079\n",
      " 0.97459622 0.99723982 0.99867104 0.99355961 0.9963198  0.9981088\n",
      " 0.99177061 0.99785322 1.         0.99616643 0.98839708 0.96595789\n",
      " 0.97158047 0.97684526 0.98118998 0.97382951 0.96503781 0.9535371\n",
      " 0.96038642 0.95726846 0.9523104  0.95128812 0.95593951 0.95266818\n",
      " 0.9678491  0.96999594 0.97147826 0.97163157 0.96876918 0.95972198\n",
      " 0.95956861 0.96974036 0.96836024 0.96943369 0.95829075 0.9666224\n",
      " 0.97163157 0.97950318 0.99202618 0.99131057 0.9891638  0.99401965\n",
      " 0.99171951 0.98860155 0.96013085 0.95093028 0.9571151  0.94929465\n",
      " 0.94356981 0.94305867 0.95256597 0.94070742 0.93022899 0.94126967\n",
      " 0.94571665 0.93896952 0.95185036 0.95379267 0.95496832 0.95195257\n",
      " 0.93901241 0.9232316  0.90812397 0.89441669 0.88203526 0.87067449\n",
      " 0.86005974 0.85002279 0.84048927 0.83143592 0.82285929 0.81475568\n",
      " 0.80711341 0.79991269 0.79312813 0.78673053 0.78069019 0.7749784\n",
      " 0.76956713 0.76443028 0.75954318 0.754884  ]\n",
      "22 day output [[0.7504326]]\n",
      "23 day input [0.92353303 0.92757107 0.93641381 0.93641381 0.93488038 0.94300756\n",
      " 0.9452055  0.95880189 0.96023312 0.9469434  0.94898797 0.94546108\n",
      " 0.94489883 0.95645065 0.96089757 0.96974036 0.97664079 0.97459622\n",
      " 0.99723982 0.99867104 0.99355961 0.9963198  0.9981088  0.99177061\n",
      " 0.99785322 1.         0.99616643 0.98839708 0.96595789 0.97158047\n",
      " 0.97684526 0.98118998 0.97382951 0.96503781 0.9535371  0.96038642\n",
      " 0.95726846 0.9523104  0.95128812 0.95593951 0.95266818 0.9678491\n",
      " 0.96999594 0.97147826 0.97163157 0.96876918 0.95972198 0.95956861\n",
      " 0.96974036 0.96836024 0.96943369 0.95829075 0.9666224  0.97163157\n",
      " 0.97950318 0.99202618 0.99131057 0.9891638  0.99401965 0.99171951\n",
      " 0.98860155 0.96013085 0.95093028 0.9571151  0.94929465 0.94356981\n",
      " 0.94305867 0.95256597 0.94070742 0.93022899 0.94126967 0.94571665\n",
      " 0.93896952 0.95185036 0.95379267 0.95496832 0.95195257 0.93901241\n",
      " 0.9232316  0.90812397 0.89441669 0.88203526 0.87067449 0.86005974\n",
      " 0.85002279 0.84048927 0.83143592 0.82285929 0.81475568 0.80711341\n",
      " 0.79991269 0.79312813 0.78673053 0.78069019 0.7749784  0.76956713\n",
      " 0.76443028 0.75954318 0.754884   0.75043261]\n",
      "23 day output [[0.7461698]]\n",
      "24 day input [0.92757107 0.93641381 0.93641381 0.93488038 0.94300756 0.9452055\n",
      " 0.95880189 0.96023312 0.9469434  0.94898797 0.94546108 0.94489883\n",
      " 0.95645065 0.96089757 0.96974036 0.97664079 0.97459622 0.99723982\n",
      " 0.99867104 0.99355961 0.9963198  0.9981088  0.99177061 0.99785322\n",
      " 1.         0.99616643 0.98839708 0.96595789 0.97158047 0.97684526\n",
      " 0.98118998 0.97382951 0.96503781 0.9535371  0.96038642 0.95726846\n",
      " 0.9523104  0.95128812 0.95593951 0.95266818 0.9678491  0.96999594\n",
      " 0.97147826 0.97163157 0.96876918 0.95972198 0.95956861 0.96974036\n",
      " 0.96836024 0.96943369 0.95829075 0.9666224  0.97163157 0.97950318\n",
      " 0.99202618 0.99131057 0.9891638  0.99401965 0.99171951 0.98860155\n",
      " 0.96013085 0.95093028 0.9571151  0.94929465 0.94356981 0.94305867\n",
      " 0.95256597 0.94070742 0.93022899 0.94126967 0.94571665 0.93896952\n",
      " 0.95185036 0.95379267 0.95496832 0.95195257 0.93901241 0.9232316\n",
      " 0.90812397 0.89441669 0.88203526 0.87067449 0.86005974 0.85002279\n",
      " 0.84048927 0.83143592 0.82285929 0.81475568 0.80711341 0.79991269\n",
      " 0.79312813 0.78673053 0.78069019 0.7749784  0.76956713 0.76443028\n",
      " 0.75954318 0.754884   0.75043261 0.74616981]\n",
      "24 day output [[0.7420783]]\n",
      "25 day input [0.93641381 0.93641381 0.93488038 0.94300756 0.9452055  0.95880189\n",
      " 0.96023312 0.9469434  0.94898797 0.94546108 0.94489883 0.95645065\n",
      " 0.96089757 0.96974036 0.97664079 0.97459622 0.99723982 0.99867104\n",
      " 0.99355961 0.9963198  0.9981088  0.99177061 0.99785322 1.\n",
      " 0.99616643 0.98839708 0.96595789 0.97158047 0.97684526 0.98118998\n",
      " 0.97382951 0.96503781 0.9535371  0.96038642 0.95726846 0.9523104\n",
      " 0.95128812 0.95593951 0.95266818 0.9678491  0.96999594 0.97147826\n",
      " 0.97163157 0.96876918 0.95972198 0.95956861 0.96974036 0.96836024\n",
      " 0.96943369 0.95829075 0.9666224  0.97163157 0.97950318 0.99202618\n",
      " 0.99131057 0.9891638  0.99401965 0.99171951 0.98860155 0.96013085\n",
      " 0.95093028 0.9571151  0.94929465 0.94356981 0.94305867 0.95256597\n",
      " 0.94070742 0.93022899 0.94126967 0.94571665 0.93896952 0.95185036\n",
      " 0.95379267 0.95496832 0.95195257 0.93901241 0.9232316  0.90812397\n",
      " 0.89441669 0.88203526 0.87067449 0.86005974 0.85002279 0.84048927\n",
      " 0.83143592 0.82285929 0.81475568 0.80711341 0.79991269 0.79312813\n",
      " 0.78673053 0.78069019 0.7749784  0.76956713 0.76443028 0.75954318\n",
      " 0.754884   0.75043261 0.74616981 0.7420783 ]\n",
      "25 day output [[0.7381437]]\n",
      "26 day input [0.93641381 0.93488038 0.94300756 0.9452055  0.95880189 0.96023312\n",
      " 0.9469434  0.94898797 0.94546108 0.94489883 0.95645065 0.96089757\n",
      " 0.96974036 0.97664079 0.97459622 0.99723982 0.99867104 0.99355961\n",
      " 0.9963198  0.9981088  0.99177061 0.99785322 1.         0.99616643\n",
      " 0.98839708 0.96595789 0.97158047 0.97684526 0.98118998 0.97382951\n",
      " 0.96503781 0.9535371  0.96038642 0.95726846 0.9523104  0.95128812\n",
      " 0.95593951 0.95266818 0.9678491  0.96999594 0.97147826 0.97163157\n",
      " 0.96876918 0.95972198 0.95956861 0.96974036 0.96836024 0.96943369\n",
      " 0.95829075 0.9666224  0.97163157 0.97950318 0.99202618 0.99131057\n",
      " 0.9891638  0.99401965 0.99171951 0.98860155 0.96013085 0.95093028\n",
      " 0.9571151  0.94929465 0.94356981 0.94305867 0.95256597 0.94070742\n",
      " 0.93022899 0.94126967 0.94571665 0.93896952 0.95185036 0.95379267\n",
      " 0.95496832 0.95195257 0.93901241 0.9232316  0.90812397 0.89441669\n",
      " 0.88203526 0.87067449 0.86005974 0.85002279 0.84048927 0.83143592\n",
      " 0.82285929 0.81475568 0.80711341 0.79991269 0.79312813 0.78673053\n",
      " 0.78069019 0.7749784  0.76956713 0.76443028 0.75954318 0.754884\n",
      " 0.75043261 0.74616981 0.7420783  0.73814368]\n",
      "26 day output [[0.73435163]]\n",
      "27 day input [0.93488038 0.94300756 0.9452055  0.95880189 0.96023312 0.9469434\n",
      " 0.94898797 0.94546108 0.94489883 0.95645065 0.96089757 0.96974036\n",
      " 0.97664079 0.97459622 0.99723982 0.99867104 0.99355961 0.9963198\n",
      " 0.9981088  0.99177061 0.99785322 1.         0.99616643 0.98839708\n",
      " 0.96595789 0.97158047 0.97684526 0.98118998 0.97382951 0.96503781\n",
      " 0.9535371  0.96038642 0.95726846 0.9523104  0.95128812 0.95593951\n",
      " 0.95266818 0.9678491  0.96999594 0.97147826 0.97163157 0.96876918\n",
      " 0.95972198 0.95956861 0.96974036 0.96836024 0.96943369 0.95829075\n",
      " 0.9666224  0.97163157 0.97950318 0.99202618 0.99131057 0.9891638\n",
      " 0.99401965 0.99171951 0.98860155 0.96013085 0.95093028 0.9571151\n",
      " 0.94929465 0.94356981 0.94305867 0.95256597 0.94070742 0.93022899\n",
      " 0.94126967 0.94571665 0.93896952 0.95185036 0.95379267 0.95496832\n",
      " 0.95195257 0.93901241 0.9232316  0.90812397 0.89441669 0.88203526\n",
      " 0.87067449 0.86005974 0.85002279 0.84048927 0.83143592 0.82285929\n",
      " 0.81475568 0.80711341 0.79991269 0.79312813 0.78673053 0.78069019\n",
      " 0.7749784  0.76956713 0.76443028 0.75954318 0.754884   0.75043261\n",
      " 0.74616981 0.7420783  0.73814368 0.73435163]\n",
      "27 day output [[0.7306901]]\n",
      "28 day input [0.94300756 0.9452055  0.95880189 0.96023312 0.9469434  0.94898797\n",
      " 0.94546108 0.94489883 0.95645065 0.96089757 0.96974036 0.97664079\n",
      " 0.97459622 0.99723982 0.99867104 0.99355961 0.9963198  0.9981088\n",
      " 0.99177061 0.99785322 1.         0.99616643 0.98839708 0.96595789\n",
      " 0.97158047 0.97684526 0.98118998 0.97382951 0.96503781 0.9535371\n",
      " 0.96038642 0.95726846 0.9523104  0.95128812 0.95593951 0.95266818\n",
      " 0.9678491  0.96999594 0.97147826 0.97163157 0.96876918 0.95972198\n",
      " 0.95956861 0.96974036 0.96836024 0.96943369 0.95829075 0.9666224\n",
      " 0.97163157 0.97950318 0.99202618 0.99131057 0.9891638  0.99401965\n",
      " 0.99171951 0.98860155 0.96013085 0.95093028 0.9571151  0.94929465\n",
      " 0.94356981 0.94305867 0.95256597 0.94070742 0.93022899 0.94126967\n",
      " 0.94571665 0.93896952 0.95185036 0.95379267 0.95496832 0.95195257\n",
      " 0.93901241 0.9232316  0.90812397 0.89441669 0.88203526 0.87067449\n",
      " 0.86005974 0.85002279 0.84048927 0.83143592 0.82285929 0.81475568\n",
      " 0.80711341 0.79991269 0.79312813 0.78673053 0.78069019 0.7749784\n",
      " 0.76956713 0.76443028 0.75954318 0.754884   0.75043261 0.74616981\n",
      " 0.7420783  0.73814368 0.73435163 0.73069012]\n",
      "28 day output [[0.7271484]]\n",
      "29 day input [0.9452055  0.95880189 0.96023312 0.9469434  0.94898797 0.94546108\n",
      " 0.94489883 0.95645065 0.96089757 0.96974036 0.97664079 0.97459622\n",
      " 0.99723982 0.99867104 0.99355961 0.9963198  0.9981088  0.99177061\n",
      " 0.99785322 1.         0.99616643 0.98839708 0.96595789 0.97158047\n",
      " 0.97684526 0.98118998 0.97382951 0.96503781 0.9535371  0.96038642\n",
      " 0.95726846 0.9523104  0.95128812 0.95593951 0.95266818 0.9678491\n",
      " 0.96999594 0.97147826 0.97163157 0.96876918 0.95972198 0.95956861\n",
      " 0.96974036 0.96836024 0.96943369 0.95829075 0.9666224  0.97163157\n",
      " 0.97950318 0.99202618 0.99131057 0.9891638  0.99401965 0.99171951\n",
      " 0.98860155 0.96013085 0.95093028 0.9571151  0.94929465 0.94356981\n",
      " 0.94305867 0.95256597 0.94070742 0.93022899 0.94126967 0.94571665\n",
      " 0.93896952 0.95185036 0.95379267 0.95496832 0.95195257 0.93901241\n",
      " 0.9232316  0.90812397 0.89441669 0.88203526 0.87067449 0.86005974\n",
      " 0.85002279 0.84048927 0.83143592 0.82285929 0.81475568 0.80711341\n",
      " 0.79991269 0.79312813 0.78673053 0.78069019 0.7749784  0.76956713\n",
      " 0.76443028 0.75954318 0.754884   0.75043261 0.74616981 0.7420783\n",
      " 0.73814368 0.73435163 0.73069012 0.72714841]\n",
      "29 day output [[0.7237164]]\n",
      "[[0.9390124082565308], [0.9232316017150879], [0.9081239700317383], [0.8944166898727417], [0.8820352554321289], [0.8706744909286499], [0.8600597381591797], [0.8500227928161621], [0.8404892683029175], [0.8314359188079834], [0.8228592872619629], [0.8147556781768799], [0.8071134090423584], [0.799912691116333], [0.7931281328201294], [0.7867305278778076], [0.7806901931762695], [0.7749783992767334], [0.7695671319961548], [0.7644302845001221], [0.7595431804656982], [0.7548840045928955], [0.7504326105117798], [0.7461698055267334], [0.7420783042907715], [0.7381436824798584], [0.734351634979248], [0.7306901216506958], [0.7271484136581421], [0.7237163782119751]]\n"
     ]
    }
   ],
   "source": [
    "# demonstrate prediction for next 10 days\n",
    "from numpy import array\n",
    "\n",
    "lst_output=[]\n",
    "n_steps=100\n",
    "i=0\n",
    "while(i<30):\n",
    "    \n",
    "    if(len(temp_input)>100):\n",
    "        #print(temp_input)\n",
    "        x_input=np.array(temp_input[1:])\n",
    "        print(\"{} day input {}\".format(i,x_input))\n",
    "        x_input=x_input.reshape(1,-1)\n",
    "        x_input = x_input.reshape((1, n_steps, 1))\n",
    "        #print(x_input)\n",
    "        yhat = model.predict(x_input, verbose=0)\n",
    "        print(\"{} day output {}\".format(i,yhat))\n",
    "        temp_input.extend(yhat[0].tolist())\n",
    "        temp_input=temp_input[1:]\n",
    "        #print(temp_input)\n",
    "        lst_output.extend(yhat.tolist())\n",
    "        i=i+1\n",
    "    else:\n",
    "        x_input = x_input.reshape((1, n_steps,1))\n",
    "        yhat = model.predict(x_input, verbose=0)\n",
    "        print(yhat[0])\n",
    "        temp_input.extend(yhat[0].tolist())\n",
    "        print(len(temp_input))\n",
    "        lst_output.extend(yhat.tolist())\n",
    "        i=i+1\n",
    "    \n",
    "\n",
    "print(lst_output)"
   ]
  },
  {
   "cell_type": "code",
   "execution_count": 53,
   "id": "ed9bea0e-5e4d-4cc0-a3a0-98f893bb32b2",
   "metadata": {},
   "outputs": [],
   "source": [
    "day_new=np.arange(1,101)\n",
    "day_pred=np.arange(101,131)\n"
   ]
  },
  {
   "cell_type": "code",
   "execution_count": 54,
   "id": "587508eb-4f74-4bd1-b57c-9b95a1f34c3b",
   "metadata": {},
   "outputs": [
    {
     "data": {
      "text/plain": [
       "5289"
      ]
     },
     "execution_count": 54,
     "metadata": {},
     "output_type": "execute_result"
    }
   ],
   "source": [
    "len(df1)"
   ]
  },
  {
   "cell_type": "code",
   "execution_count": 55,
   "id": "eb07171c-3364-4174-99c2-5d77b7885137",
   "metadata": {},
   "outputs": [
    {
     "data": {
      "text/plain": [
       "[<matplotlib.lines.Line2D at 0x1875a3bb490>]"
      ]
     },
     "execution_count": 55,
     "metadata": {},
     "output_type": "execute_result"
    },
    {
     "data": {
      "image/png": "[encoded data removed]",
      "text/plain": [
       "<Figure size 640x480 with 1 Axes>"
      ]
     },
     "metadata": {},
     "output_type": "display_data"
    }
   ],
   "source": [
    "plt.plot(day_new,scaler.inverse_transform(df1[5189:]))\n",
    "plt.plot(day_pred,scaler.inverse_transform(lst_output))"
   ]
  },
  {
   "cell_type": "code",
   "execution_count": 56,
   "id": "90bc3bdc-9ea3-4f58-afc9-5b9e05bed671",
   "metadata": {},
   "outputs": [
    {
     "data": {
      "text/plain": [
       "[<matplotlib.lines.Line2D at 0x1875a37fbd0>]"
      ]
     },
     "execution_count": 56,
     "metadata": {},
     "output_type": "execute_result"
    },
    {
     "data": {
      "image/png": "[encoded data removed]",
      "text/plain": [
       "<Figure size 640x480 with 1 Axes>"
      ]
     },
     "metadata": {},
     "output_type": "display_data"
    }
   ],
   "source": [
    "df3=df1.tolist()\n",
    "df3.extend(lst_output)\n",
    "plt.plot(df3[5100:])"
   ]
  },
  {
   "cell_type": "code",
   "execution_count": 57,
   "id": "c76e4f01-3744-4d0c-8e9d-af7929d2d77e",
   "metadata": {},
   "outputs": [],
   "source": [
    "df3=scaler.inverse_transform(df3).tolist()"
   ]
  },
  {
   "cell_type": "code",
   "execution_count": 58,
   "id": "123b3141-ade3-44fb-a1ce-f7f844b20fc2",
   "metadata": {},
   "outputs": [
    {
     "data": {
      "text/plain": [
       "[<matplotlib.lines.Line2D at 0x1875a387790>]"
      ]
     },
     "execution_count": 58,
     "metadata": {},
     "output_type": "execute_result"
    },
    {
     "data": {
      "image/png": "[encoded data removed]",
      "text/plain": [
       "<Figure size 640x480 with 1 Axes>"
      ]
     },
     "metadata": {},
     "output_type": "display_data"
    }
   ],
   "source": [
    "plt.plot(df3)"
   ]
  },
  {
   "cell_type": "code",
   "execution_count": null,
   "id": "acc21619-4359-422c-9fc6-2c563922c5b8",
   "metadata": {},
   "outputs": [],
   "source": []
  },
  {
   "cell_type": "code",
   "execution_count": null,
   "id": "99d40850-1f20-4fe7-bf4f-9e0d76aec9bc",
   "metadata": {},
   "outputs": [],
   "source": []
  },
  {
   "cell_type": "code",
   "execution_count": null,
   "id": "602951ca-e8a8-4b47-b3ef-45d5ca7560f1",
   "metadata": {},
   "outputs": [],
   "source": []
  },
  {
   "cell_type": "code",
   "execution_count": null,
   "id": "3f470f59-963d-407d-a8e7-d3c4db6030b6",
   "metadata": {},
   "outputs": [],
   "source": []
  },
  {
   "cell_type": "code",
   "execution_count": null,
   "id": "719ef879-7387-48f4-a65c-d95d863a83d3",
   "metadata": {},
   "outputs": [],
   "source": []
  }
 ],
 "metadata": {
  "kernelspec": {
   "display_name": "Python 3 (ipykernel)",
   "language": "python",
   "name": "python3"
  },
  "language_info": {
   "codemirror_mode": {
    "name": "ipython",
    "version": 3
   },
   "file_extension": ".py",
   "mimetype": "text/x-python",
   "name": "python",
   "nbconvert_exporter": "python",
   "pygments_lexer": "ipython3",
   "version": "3.11.5"
  }
 },
 "nbformat": 4,
 "nbformat_minor": 5
}
